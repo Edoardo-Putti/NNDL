{
 "cells": [
  {
   "cell_type": "code",
   "execution_count": null,
   "metadata": {},
   "outputs": [],
   "source": [
    "#With the network of this notebook we obtained a result of 88,2% on the test set\n",
    "\n",
    "from IPython.core.interactiveshell import InteractiveShell\n",
    "InteractiveShell.ast_node_interactivity = \"all\""
   ]
  },
  {
   "cell_type": "code",
   "execution_count": null,
   "metadata": {
    "executionInfo": {
     "elapsed": 577,
     "status": "ok",
     "timestamp": 1605509112443,
     "user": {
      "displayName": "Edoardo Putti",
      "photoUrl": "https://lh3.googleusercontent.com/a-/AOh14Gj7oizfBqgR_sAV-NMtKUxel-6CGnUb_8hqENyzJA=s64",
      "userId": "10533665133871308250"
     },
     "user_tz": -60
    },
    "id": "t_IEO11osvh_"
   },
   "outputs": [],
   "source": [
    "#Imports and we set the seed in order to make the experiment replicable\n",
    "\n",
    "import os\n",
    "import tensorflow as tf\n",
    "import numpy as np\n",
    "\n",
    "SEED = 1234\n",
    "tf.random.set_seed(SEED)  \n",
    "np.random.seed(SEED)"
   ]
  },
  {
   "cell_type": "code",
   "execution_count": null,
   "metadata": {
    "colab": {
     "base_uri": "https://localhost:8080/"
    },
    "executionInfo": {
     "elapsed": 20516,
     "status": "ok",
     "timestamp": 1605509135657,
     "user": {
      "displayName": "Edoardo Putti",
      "photoUrl": "https://lh3.googleusercontent.com/a-/AOh14Gj7oizfBqgR_sAV-NMtKUxel-6CGnUb_8hqENyzJA=s64",
      "userId": "10533665133871308250"
     },
     "user_tz": -60
    },
    "id": "gIVQYZ8duLmX",
    "outputId": "dd63abce-19e8-4558-976e-2c85e55f7c92"
   },
   "outputs": [],
   "source": [
    "# Run this cell only if you are using Colab with Drive\n",
    "from google.colab import drive\n",
    "drive.mount('/content/drive')"
   ]
  },
  {
   "cell_type": "code",
   "execution_count": null,
   "metadata": {
    "colab": {
     "base_uri": "https://localhost:8080/"
    },
    "executionInfo": {
     "elapsed": 9394,
     "status": "ok",
     "timestamp": 1605509204263,
     "user": {
      "displayName": "Edoardo Putti",
      "photoUrl": "https://lh3.googleusercontent.com/a-/AOh14Gj7oizfBqgR_sAV-NMtKUxel-6CGnUb_8hqENyzJA=s64",
      "userId": "10533665133871308250"
     },
     "user_tz": -60
    },
    "id": "NZjNeLMVzZ40",
    "outputId": "3c46bb46-c82c-4367-fb3b-a3195f5172f2"
   },
   "outputs": [],
   "source": [
    "!unzip \"/content/drive/My Drive/data.zip\""
   ]
  },
  {
   "cell_type": "code",
   "execution_count": null,
   "metadata": {
    "executionInfo": {
     "elapsed": 657,
     "status": "ok",
     "timestamp": 1605509220339,
     "user": {
      "displayName": "Edoardo Putti",
      "photoUrl": "https://lh3.googleusercontent.com/a-/AOh14Gj7oizfBqgR_sAV-NMtKUxel-6CGnUb_8hqENyzJA=s64",
      "userId": "10533665133871308250"
     },
     "user_tz": -60
    },
    "id": "PsH1X-txsviH"
   },
   "outputs": [],
   "source": [
    "# ImageDataGenerator: we apply some data augmentation in order to somehow face the scarsity of the training set\n",
    "# ------------------\n",
    "\n",
    "from tensorflow.keras.preprocessing.image import ImageDataGenerator\n",
    "from tensorflow.keras.applications.mobilenet_v2 import preprocess_input \n",
    "\n",
    "apply_data_augmentation = True\n",
    "\n",
    "# Create training ImageDataGenerator object\n",
    "if apply_data_augmentation:\n",
    "    train_data_gen = ImageDataGenerator(rotation_range=10,\n",
    "                                        width_shift_range=10,\n",
    "                                        height_shift_range=10,\n",
    "                                        zoom_range=0.3,\n",
    "                                        horizontal_flip=True,\n",
    "                                        vertical_flip=True,\n",
    "                                        fill_mode='constant',\n",
    "                                        cval=0,\n",
    "                                        preprocessing_function=preprocess_input)\n",
    "else:\n",
    "    train_data_gen = ImageDataGenerator(rescale=1./255, )\n",
    "\n",
    "# Create validation and test ImageDataGenerator objects\n",
    "valid_data_gen = ImageDataGenerator(preprocessing_function=preprocess_input)\n"
   ]
  },
  {
   "cell_type": "code",
   "execution_count": null,
   "metadata": {
    "colab": {
     "base_uri": "https://localhost:8080/"
    },
    "executionInfo": {
     "elapsed": 584,
     "status": "ok",
     "timestamp": 1605513687912,
     "user": {
      "displayName": "Edoardo Putti",
      "photoUrl": "https://lh3.googleusercontent.com/a-/AOh14Gj7oizfBqgR_sAV-NMtKUxel-6CGnUb_8hqENyzJA=s64",
      "userId": "10533665133871308250"
     },
     "user_tz": -60
    },
    "id": "HjwyaodesviJ",
    "outputId": "451145fd-2e34-44fa-ecab-c0f237f342d3"
   },
   "outputs": [],
   "source": [
    "# Create generators to read images from dataset directory\n",
    "# -------------------------------------------------------\n",
    "# Get current working directory\n",
    "cwd = os.getcwd()\n",
    "dataset_dir = os.path.join(cwd, 'data')\n",
    "\n",
    "# img\n",
    "\n",
    "# Batch size\n",
    "bs = 16\n",
    "\n",
    "# img shape\n",
    "img_h = 224\n",
    "img_w = 224\n",
    "\n",
    "num_classes=3\n",
    "\n",
    "# Training\n",
    "training_dir = os.path.join(dataset_dir, 'training')\n",
    "train_gen = train_data_gen.flow_from_directory(training_dir,\n",
    "                                               batch_size=bs, \n",
    "                                               class_mode='categorical',\n",
    "                                               shuffle=True,\n",
    "                                               target_size=(img_h, img_w),\n",
    "                                               seed=SEED)  # targets are directly converted into one-hot vectors\n",
    "\n",
    "# Validation\n",
    "validation_dir = os.path.join(dataset_dir, 'validation')\n",
    "valid_gen = valid_data_gen.flow_from_directory(validation_dir,\n",
    "                                               batch_size=bs, \n",
    "                                               class_mode='categorical',\n",
    "                                               shuffle=False,\n",
    "                                               target_size=(img_h, img_w),\n",
    "                                               seed=SEED)\n"
   ]
  },
  {
   "cell_type": "code",
   "execution_count": null,
   "metadata": {
    "executionInfo": {
     "elapsed": 501,
     "status": "ok",
     "timestamp": 1605513694795,
     "user": {
      "displayName": "Edoardo Putti",
      "photoUrl": "https://lh3.googleusercontent.com/a-/AOh14Gj7oizfBqgR_sAV-NMtKUxel-6CGnUb_8hqENyzJA=s64",
      "userId": "10533665133871308250"
     },
     "user_tz": -60
    },
    "id": "3-KxwLWJsviM"
   },
   "outputs": [],
   "source": [
    "# Create Dataset objects\n",
    "# ----------------------\n",
    "size = (224, 224)\n",
    "# Training\n",
    "train_dataset = tf.data.Dataset.from_generator(lambda: train_gen,\n",
    "                                               output_types=(tf.float32, tf.float32),\n",
    "                                               output_shapes=([None, img_h, img_w, 3], [None, num_classes]))\n",
    "\n",
    "# Shuffle (Already done in generator..)\n",
    "# train_dataset = train_dataset.shuffle(buffer_size=len(train_gen))\n",
    "\n",
    "# Normalize images (Already done in generator..)\n",
    "# def normalize_img(x_, y_):\n",
    "#     return tf.cast(x_, tf.float32) / 255., y_\n",
    "\n",
    "# train_dataset = train_dataset.map(normalize_img)\n",
    "\n",
    "# 1-hot encoding <- for categorical cross entropy (Already done in generator..)\n",
    "# def to_categorical(x_, y_):\n",
    "#     return x_, tf.one_hot(y_, depth=10)\n",
    "\n",
    "# train_dataset = train_dataset.map(to_categorical)\n",
    "\n",
    "# Divide in batches (Already done in generator..)\n",
    "# train_dataset = train_dataset.batch(bs)\n",
    "\n",
    "# Repeat\n",
    "# Without calling the repeat function the dataset \n",
    "# will be empty after consuming all the images\n",
    "#Resize performed here both for training and validation\n",
    "train_dataset = train_dataset.map(lambda x, y: (tf.image.resize(x, size), y))\n",
    "train_dataset = train_dataset.repeat()\n",
    "\n",
    "# Validation\n",
    "# ----------\n",
    "valid_dataset = tf.data.Dataset.from_generator(lambda: valid_gen, \n",
    "                                               output_types=(tf.float32, tf.float32),\n",
    "                                               output_shapes=([None, img_h, img_w, 3], [None, num_classes]))\n",
    "\n",
    "# Repeat\n",
    "valid_dataset = valid_dataset.map(lambda x, y: (tf.image.resize(x, size), y))\n",
    "valid_dataset = valid_dataset.repeat()\n",
    "\n"
   ]
  },
  {
   "cell_type": "code",
   "execution_count": null,
   "metadata": {
    "colab": {
     "base_uri": "https://localhost:8080/"
    },
    "executionInfo": {
     "elapsed": 1147,
     "status": "ok",
     "timestamp": 1605513727048,
     "user": {
      "displayName": "Edoardo Putti",
      "photoUrl": "https://lh3.googleusercontent.com/a-/AOh14Gj7oizfBqgR_sAV-NMtKUxel-6CGnUb_8hqENyzJA=s64",
      "userId": "10533665133871308250"
     },
     "user_tz": -60
    },
    "id": "wlrLB4eKsviS",
    "outputId": "b739430d-41c9-4e04-d116-15beff5e03db"
   },
   "outputs": [],
   "source": [
    "#We load the MobileNetV2 excluding the final part\n",
    "mobile = tf.keras.applications.MobileNetV2(weights='imagenet', include_top=False, input_shape=(img_h, img_w, 3))"
   ]
  },
  {
   "cell_type": "code",
   "execution_count": null,
   "metadata": {
    "colab": {
     "base_uri": "https://localhost:8080/"
    },
    "executionInfo": {
     "elapsed": 991,
     "status": "ok",
     "timestamp": 1605513780049,
     "user": {
      "displayName": "Edoardo Putti",
      "photoUrl": "https://lh3.googleusercontent.com/a-/AOh14Gj7oizfBqgR_sAV-NMtKUxel-6CGnUb_8hqENyzJA=s64",
      "userId": "10533665133871308250"
     },
     "user_tz": -60
    },
    "id": "jbRRQKigydUA",
    "outputId": "29f530da-988a-45e4-dd9d-11faad873609"
   },
   "outputs": [],
   "source": [
    "# Create Model\n",
    "# ------------\n",
    "#We identified an improvement freezing few layers\n",
    "\n",
    "finetuning = True\n",
    "\n",
    "if finetuning:\n",
    "    freeze_until = 6 # layer from which we want to fine-tune\n",
    "    \n",
    "    for layer in mobile.layers[:freeze_until]:\n",
    "        layer.trainable = False\n",
    "else:\n",
    "    mobile.trainable = False\n",
    "    \n",
    "model = tf.keras.Sequential()\n",
    "model.add(mobile)\n",
    "\n",
    "#We get good performanceces with this type of classifier but similiar result were obtained\n",
    "#also with a fully connected layer with 2 dense layer with 512 and 256 with a dropout separing them\n",
    "\n",
    "model.add(tf.keras.layers.Conv2D(filters=3, kernel_size=(3,3), strides=(1,1)))\n",
    "model.add(tf.keras.layers.GlobalAveragePooling2D())\n",
    "model.add(tf.keras.layers.Dense(units=3, activation='softmax'))\n",
    "\n",
    "# Visualize created model as a table\n",
    "model.summary()\n",
    "\n"
   ]
  },
  {
   "cell_type": "code",
   "execution_count": null,
   "metadata": {
    "colab": {
     "base_uri": "https://localhost:8080/"
    },
    "executionInfo": {
     "elapsed": 2346890,
     "status": "ok",
     "timestamp": 1605516173870,
     "user": {
      "displayName": "Edoardo Putti",
      "photoUrl": "https://lh3.googleusercontent.com/a-/AOh14Gj7oizfBqgR_sAV-NMtKUxel-6CGnUb_8hqENyzJA=s64",
      "userId": "10533665133871308250"
     },
     "user_tz": -60
    },
    "id": "jZZReH1esviU",
    "outputId": "11e18245-0b6b-4b37-af10-77d9ca3bc440"
   },
   "outputs": [],
   "source": [
    "# Optimization params\n",
    "# -------------------\n",
    "\n",
    "# Loss\n",
    "loss = tf.keras.losses.CategoricalCrossentropy()\n",
    "\n",
    "# learning rate\n",
    "lr = 1e-4\n",
    "optimizer = tf.keras.optimizers.Adam(learning_rate=lr)\n",
    "# -------------------\n",
    "\n",
    "# Validation metrics\n",
    "# ------------------\n",
    "\n",
    "metrics = ['accuracy']\n",
    "# ------------------\n",
    "\n",
    "# Compile Model\n",
    "model.compile(optimizer=optimizer, loss=loss, metrics=metrics)\n",
    "\n",
    "import os\n",
    "from datetime import datetime\n",
    "\n",
    "\n",
    "\n",
    "cwd = os.path.join(os.getcwd(),\"drive/My Drive/logs\")\n",
    "\n",
    "exps_dir = os.path.join(cwd, 'mobile_1')\n",
    "if not os.path.exists(exps_dir):\n",
    "    os.makedirs(exps_dir)\n",
    "\n",
    "now = datetime.now().strftime('%b%d_%H-%M-%S')\n",
    "\n",
    "model_name = 'mobile'\n",
    "\n",
    "exp_dir = os.path.join(exps_dir, model_name + '_' + str(now))\n",
    "if not os.path.exists(exp_dir):\n",
    "    os.makedirs(exp_dir)\n",
    "    \n",
    "callbacks = []\n",
    "\n",
    "# Model checkpoint\n",
    "# ----------------\n",
    "ckpt_dir = os.path.join(exp_dir, 'ckpts')\n",
    "if not os.path.exists(ckpt_dir):\n",
    "    os.makedirs(ckpt_dir)\n",
    "\n",
    "ckpt_callback = tf.keras.callbacks.ModelCheckpoint(filepath=os.path.join(ckpt_dir, 'cp.ckpt'), \n",
    "                                                   save_weights_only=True)  # False to save the model directly\n",
    "callbacks.append(ckpt_callback)\n",
    "\n",
    "# Visualize Learning on Tensorboard\n",
    "# ---------------------------------\n",
    "tb_dir = os.path.join(exp_dir, 'tb_logs')\n",
    "if not os.path.exists(tb_dir):\n",
    "    os.makedirs(tb_dir)\n",
    "\n",
    "#ReduceLROnPlateau\n",
    "LROnPlateau = False\n",
    "if LROnPlateau:\n",
    "    LROP_callback = tf.keras.callbacks.ReduceLROnPlateau(monitor=\"val_loss\", verbose=1,mode=\"auto\")\n",
    "    callbacks.append(LROP_callback)\n",
    "    \n",
    "# By default shows losses and metrics for both training and validation\n",
    "tb_callback = tf.keras.callbacks.TensorBoard(log_dir=tb_dir,\n",
    "                                             profile_batch=0,\n",
    "                                             histogram_freq=1)  # if 1 shows weights histograms\n",
    "callbacks.append(tb_callback)\n",
    "\n",
    "# Early Stopping\n",
    "# --------------\n",
    "early_stop = True\n",
    "if early_stop:\n",
    "    es_callback = tf.keras.callbacks.EarlyStopping(monitor='val_loss', patience=10, restore_best_weights=True )\n",
    "    callbacks.append(es_callback)\n",
    "\n",
    "epochs = 50\n",
    "model.fit(x=train_dataset, epochs=epochs,steps_per_epoch=len(train_gen),\n",
    "          validation_data=valid_dataset,\n",
    "          validation_steps=len(valid_gen), \n",
    "          callbacks=callbacks)"
   ]
  },
  {
   "cell_type": "code",
   "execution_count": null,
   "metadata": {
    "colab": {
     "base_uri": "https://localhost:8080/"
    },
    "executionInfo": {
     "elapsed": 651101,
     "status": "ok",
     "timestamp": 1605516177020,
     "user": {
      "displayName": "Edoardo Putti",
      "photoUrl": "https://lh3.googleusercontent.com/a-/AOh14Gj7oizfBqgR_sAV-NMtKUxel-6CGnUb_8hqENyzJA=s64",
      "userId": "10533665133871308250"
     },
     "user_tz": -60
    },
    "id": "BnwmitOrsviY",
    "outputId": "6e6174fa-4c32-4fa7-ff6b-2baf931c1823"
   },
   "outputs": [],
   "source": [
    "model.save('path')"
   ]
  },
  {
   "cell_type": "code",
   "execution_count": null,
   "metadata": {
    "id": "mkKpRGjDLr4U"
   },
   "outputs": [],
   "source": [
    "model= tf.keras.models.load_model('saved_model')"
   ]
  },
  {
   "cell_type": "code",
   "execution_count": null,
   "metadata": {},
   "outputs": [],
   "source": [
    "import pandas as pd\n",
    "from datetime import datetime\n",
    "\n",
    "def create_csv(results, results_dir='./'):\n",
    "\n",
    "    csv_fname = 'results_'\n",
    "    csv_fname += datetime.now().strftime('%b%d_%H-%M-%S') + '.csv'\n",
    "\n",
    "    with open(os.path.join(results_dir, csv_fname), 'w') as f:\n",
    "\n",
    "        f.write('Id,Category\\n')\n",
    "\n",
    "        for key, value in results.items():\n",
    "            f.write(key + ',' + str(value) + '\\n')\n",
    "\n",
    "\n",
    "test_dir = os.path.join(dataset_dir, 'test')\n",
    "\n",
    "images = [f for f in os.listdir(test_dir)]\n",
    "images = pd.DataFrame(images)\n",
    "images.rename(columns = {0:'filename'}, inplace = True)\n",
    "images[\"class\"] = 'test'\n",
    "\n",
    "test_gen = train_data_gen.flow_from_dataframe(images,\n",
    "                                               test_dir,\n",
    "                                               batch_size=bs,\n",
    "                                               target_size=(img_h, img_w),\n",
    "                                               class_mode='categorical',\n",
    "                                               shuffle=False,\n",
    "                                               seed=SEED)\n",
    "\n",
    "\n",
    "test_gen.reset()\n",
    "\n",
    "predictions = model.predict(test_gen, len(test_gen), verbose=1)\n",
    "\n",
    "results = {}\n",
    "images = test_gen.filenames\n",
    "i = 0\n",
    "\n",
    "for p in predictions:\n",
    "  prediction = np.argmax(p)\n",
    "  import ntpath\n",
    "  image_name = ntpath.basename(images[i])\n",
    "  results[image_name] = str(prediction)\n",
    "  i = i + 1\n",
    "\n",
    "create_csv(results)"
   ]
  }
 ],
 "metadata": {
  "accelerator": "GPU",
  "colab": {
   "name": "test.ipynb",
   "provenance": []
  },
  "kernelspec": {
   "display_name": "Python 3",
   "language": "python",
   "name": "python3"
  },
  "language_info": {
   "codemirror_mode": {
    "name": "ipython",
    "version": 3
   },
   "file_extension": ".py",
   "mimetype": "text/x-python",
   "name": "python",
   "nbconvert_exporter": "python",
   "pygments_lexer": "ipython3",
   "version": "3.7.9"
  }
 },
 "nbformat": 4,
 "nbformat_minor": 4
}
