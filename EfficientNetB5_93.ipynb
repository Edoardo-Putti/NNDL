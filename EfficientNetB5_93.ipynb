{
 "cells": [
  {
   "cell_type": "code",
   "execution_count": 1,
   "metadata": {
    "executionInfo": {
     "elapsed": 1920,
     "status": "ok",
     "timestamp": 1605885139406,
     "user": {
      "displayName": "Edoardo Putti",
      "photoUrl": "",
      "userId": "12586389992558135362"
     },
     "user_tz": -60
    },
    "id": "t_IEO11osvh_"
   },
   "outputs": [],
   "source": [
    "import os\n",
    "import tensorflow as tf\n",
    "import numpy as np\n",
    "#set the seed to enable the reproducibility of the results\n",
    "SEED = 1234\n",
    "tf.random.set_seed(SEED)\n",
    "np.random.seed(SEED)"
   ]
  },
  {
   "cell_type": "code",
   "execution_count": 2,
   "metadata": {
    "colab": {
     "base_uri": "https://localhost:8080/"
    },
    "executionInfo": {
     "elapsed": 29710,
     "status": "ok",
     "timestamp": 1605885169922,
     "user": {
      "displayName": "Edoardo Putti",
      "photoUrl": "",
      "userId": "12586389992558135362"
     },
     "user_tz": -60
    },
    "id": "_vzyIj97sBxa",
    "outputId": "7a11d16a-66af-4f49-9b3f-0049542a3bcd"
   },
   "outputs": [
    {
     "name": "stdout",
     "output_type": "stream",
     "text": [
      "Mounted at /content/drive\n"
     ]
    }
   ],
   "source": [
    "# Run this cell only if you are using Colab with Drive\n",
    "from google.colab import drive\n",
    "drive.mount('/content/drive')"
   ]
  },
  {
   "cell_type": "code",
   "execution_count": 3,
   "metadata": {
    "executionInfo": {
     "elapsed": 8883,
     "status": "ok",
     "timestamp": 1605885185971,
     "user": {
      "displayName": "Edoardo Putti",
      "photoUrl": "",
      "userId": "12586389992558135362"
     },
     "user_tz": -60
    },
    "id": "NZjNeLMVzZ40"
   },
   "outputs": [],
   "source": [
    "#Unzip the dataset in the colab session\n",
    "%%capture\n",
    "!unzip \"/content/drive/My Drive/data.zip\""
   ]
  },
  {
   "cell_type": "code",
   "execution_count": 4,
   "metadata": {
    "executionInfo": {
     "elapsed": 342,
     "status": "ok",
     "timestamp": 1605885187057,
     "user": {
      "displayName": "Edoardo Putti",
      "photoUrl": "",
      "userId": "12586389992558135362"
     },
     "user_tz": -60
    },
    "id": "PsH1X-txsviH"
   },
   "outputs": [],
   "source": [
    "# ImageDataGenerator\n",
    "# ------------------\n",
    "\n",
    "from tensorflow.keras.preprocessing.image import ImageDataGenerator\n",
    "\n",
    "apply_data_augmentation = True\n",
    "\n",
    "# Create training ImageDataGenerator object\n",
    "if apply_data_augmentation:\n",
    "    train_data_gen = ImageDataGenerator(rotation_range=10,\n",
    "                                        width_shift_range=10,\n",
    "                                        height_shift_range=10,\n",
    "                                        zoom_range=0.3,\n",
    "                                        horizontal_flip=True,\n",
    "                                        vertical_flip=True,\n",
    "                                        fill_mode='constant',\n",
    "                                        cval=0,\n",
    "                                        rescale=1./255)\n",
    "else:\n",
    "    train_data_gen = ImageDataGenerator(rescale=1./255)\n",
    "\n",
    "# Create validation and test ImageDataGenerator objects\n",
    "valid_data_gen = ImageDataGenerator(rescale=1./255)\n"
   ]
  },
  {
   "cell_type": "code",
   "execution_count": 5,
   "metadata": {
    "colab": {
     "base_uri": "https://localhost:8080/"
    },
    "executionInfo": {
     "elapsed": 645,
     "status": "ok",
     "timestamp": 1605885189618,
     "user": {
      "displayName": "Edoardo Putti",
      "photoUrl": "",
      "userId": "12586389992558135362"
     },
     "user_tz": -60
    },
    "id": "HjwyaodesviJ",
    "outputId": "1a2b6a76-dd40-44b5-9dd7-8bbb119b0ad5"
   },
   "outputs": [
    {
     "name": "stdout",
     "output_type": "stream",
     "text": [
      "Found 5052 images belonging to 3 classes.\n",
      "Found 562 images belonging to 3 classes.\n"
     ]
    }
   ],
   "source": [
    "# Create generators to read images from dataset directory\n",
    "# -------------------------------------------------------\n",
    "# Get current working directory\n",
    "cwd = os.getcwd()\n",
    "dataset_dir = os.path.join(cwd, 'data')\n",
    "\n",
    "# img\n",
    "\n",
    "# Batch size\n",
    "bs = 16\n",
    "\n",
    "# img shape\n",
    "img_h = 256\n",
    "img_w = 256\n",
    "\n",
    "num_classes=3\n",
    "\n",
    "# Training\n",
    "training_dir = os.path.join(dataset_dir, 'training')\n",
    "train_gen = train_data_gen.flow_from_directory(training_dir,\n",
    "                                               batch_size=bs, \n",
    "                                               class_mode='categorical',\n",
    "                                               shuffle=True,\n",
    "                                               seed=SEED)\n",
    "\n",
    "# Validation\n",
    "validation_dir = os.path.join(dataset_dir, 'validation')\n",
    "valid_gen = valid_data_gen.flow_from_directory(validation_dir,\n",
    "                                               batch_size=bs, \n",
    "                                               class_mode='categorical',\n",
    "                                               shuffle=False,\n",
    "                                               seed=SEED)\n",
    "\n"
   ]
  },
  {
   "cell_type": "code",
   "execution_count": 6,
   "metadata": {
    "executionInfo": {
     "elapsed": 6159,
     "status": "ok",
     "timestamp": 1605885210610,
     "user": {
      "displayName": "Edoardo Putti",
      "photoUrl": "",
      "userId": "12586389992558135362"
     },
     "user_tz": -60
    },
    "id": "3-KxwLWJsviM"
   },
   "outputs": [],
   "source": [
    "# Create Dataset objects\n",
    "# ----------------------\n",
    "size = (256, 256)\n",
    "# Training\n",
    "train_dataset = tf.data.Dataset.from_generator(lambda: train_gen,\n",
    "                                               output_types=(tf.float32, tf.float32),\n",
    "                                               output_shapes=([None, img_h, img_w, 3], [None, num_classes]))\n",
    "\n",
    "# we apply a resize function to all the images in the dataset \n",
    "train_dataset = train_dataset.map(lambda x, y: (tf.image.resize(x, size), y))\n",
    "train_dataset = train_dataset.repeat()\n",
    "\n",
    "# Validation\n",
    "# ----------\n",
    "valid_dataset = tf.data.Dataset.from_generator(lambda: valid_gen, \n",
    "                                               output_types=(tf.float32, tf.float32),\n",
    "                                               output_shapes=([None, img_h, img_w, 3], [None, num_classes]))\n",
    "\n",
    "# Repeat and resizing\n",
    "valid_dataset = valid_dataset.map(lambda x, y: (tf.image.resize(x, size), y))\n",
    "valid_dataset = valid_dataset.repeat()\n",
    "\n"
   ]
  },
  {
   "cell_type": "code",
   "execution_count": 7,
   "metadata": {
    "colab": {
     "base_uri": "https://localhost:8080/"
    },
    "executionInfo": {
     "elapsed": 7564,
     "status": "ok",
     "timestamp": 1605885218223,
     "user": {
      "displayName": "Edoardo Putti",
      "photoUrl": "",
      "userId": "12586389992558135362"
     },
     "user_tz": -60
    },
    "id": "wlrLB4eKsviS",
    "outputId": "75bf947b-7105-48f6-8ff6-cc4819151922"
   },
   "outputs": [
    {
     "name": "stdout",
     "output_type": "stream",
     "text": [
      "Downloading data from https://storage.googleapis.com/keras-applications/efficientnetb5_notop.h5\n",
      "115269632/115263384 [==============================] - 2s 0us/step\n"
     ]
    }
   ],
   "source": [
    "# import the pre trained model without the top classifier for feature extraction\n",
    "EfficientNetB5 = tf.keras.applications.EfficientNetB5(weights='imagenet', include_top=False, input_shape=(img_h, img_w, 3))"
   ]
  },
  {
   "cell_type": "code",
   "execution_count": null,
   "metadata": {
    "colab": {
     "base_uri": "https://localhost:8080/"
    },
    "id": "ML3-KapZr1qp",
    "outputId": "7002611b-0665-4aa9-ddae-e61fc3306a64"
   },
   "outputs": [],
   "source": [
    "EfficientNetB5.summary()"
   ]
  },
  {
   "cell_type": "code",
   "execution_count": 8,
   "metadata": {
    "colab": {
     "base_uri": "https://localhost:8080/"
    },
    "executionInfo": {
     "elapsed": 3220,
     "status": "ok",
     "timestamp": 1605885243294,
     "user": {
      "displayName": "Edoardo Putti",
      "photoUrl": "",
      "userId": "12586389992558135362"
     },
     "user_tz": -60
    },
    "id": "jbRRQKigydUA",
    "outputId": "9ddb40f2-b9b9-4074-b143-c15db19f5577"
   },
   "outputs": [
    {
     "name": "stdout",
     "output_type": "stream",
     "text": [
      "Model: \"sequential\"\n",
      "_________________________________________________________________\n",
      "Layer (type)                 Output Shape              Param #   \n",
      "=================================================================\n",
      "efficientnetb5 (Functional)  (None, 8, 8, 2048)        28513527  \n",
      "_________________________________________________________________\n",
      "separable_conv2d (SeparableC (None, 6, 6, 3)           24579     \n",
      "_________________________________________________________________\n",
      "batch_normalization (BatchNo (None, 6, 6, 3)           12        \n",
      "_________________________________________________________________\n",
      "re_lu (ReLU)                 (None, 6, 6, 3)           0         \n",
      "_________________________________________________________________\n",
      "average_pooling2d (AveragePo (None, 3, 3, 3)           0         \n",
      "_________________________________________________________________\n",
      "dense (Dense)                (None, 3, 3, 512)         2048      \n",
      "_________________________________________________________________\n",
      "dropout (Dropout)            (None, 3, 3, 512)         0         \n",
      "_________________________________________________________________\n",
      "flatten (Flatten)            (None, 4608)              0         \n",
      "_________________________________________________________________\n",
      "dense_1 (Dense)              (None, 3)                 13827     \n",
      "=================================================================\n",
      "Total params: 28,553,993\n",
      "Trainable params: 28,376,696\n",
      "Non-trainable params: 177,297\n",
      "_________________________________________________________________\n"
     ]
    }
   ],
   "source": [
    "# Create Model\n",
    "# ------------\n",
    "\n",
    "finetuning = True\n",
    "\n",
    "if finetuning:\n",
    "    freeze_until = 18 # layer from which we want to fine-tune\n",
    "    \n",
    "    for layer in EfficientNetB5.layers[:freeze_until]:\n",
    "        layer.trainable = False\n",
    "else:\n",
    "    xception.trainable = False\n",
    "'''\n",
    "for the classifier on top we try to mimic one of the last xception block  \n",
    "plus a dense layer before the softmax \n",
    "'''    \n",
    "model = tf.keras.Sequential()\n",
    "model.add(EfficientNetB5)\n",
    "model.add(tf.keras.layers.SeparableConv2D(filters=3,kernel_size=(3,3)))\n",
    "model.add(tf.keras.layers.BatchNormalization())   \n",
    "model.add(tf.keras.layers.ReLU())\n",
    "model.add(tf.keras.layers.AveragePooling2D())\n",
    "model.add(tf.keras.layers.Dense(units=512, activation=tf.keras.activations.relu, kernel_regularizer=tf.keras.regularizers.l2(0.001)))\n",
    "model.add(tf.keras.layers.Dropout(0.05))\n",
    "model.add(tf.keras.layers.Flatten())\n",
    "model.add(tf.keras.layers.Dense(units=3, activation='softmax'))\n",
    "\n",
    "# Visualize created model as a table\n",
    "model.summary()"
   ]
  },
  {
   "cell_type": "code",
   "execution_count": 9,
   "metadata": {
    "executionInfo": {
     "elapsed": 490,
     "status": "ok",
     "timestamp": 1605885244849,
     "user": {
      "displayName": "Edoardo Putti",
      "photoUrl": "",
      "userId": "12586389992558135362"
     },
     "user_tz": -60
    },
    "id": "jZZReH1esviU"
   },
   "outputs": [],
   "source": [
    "# Optimization params\n",
    "# -------------------\n",
    "\n",
    "# Loss\n",
    "loss = tf.keras.losses.CategoricalCrossentropy()\n",
    "\n",
    "# learning rate\n",
    "# it was choosen through trial and error\n",
    "lr = 5e-4\n",
    "optimizer = tf.keras.optimizers.Adam(learning_rate=lr)\n",
    "# -------------------\n",
    "\n",
    "# Validation metrics\n",
    "# ------------------\n",
    "\n",
    "metrics = ['accuracy']\n",
    "# ------------------\n",
    "\n",
    "# Compile Model\n",
    "model.compile(optimizer=optimizer, loss=loss, metrics=metrics)"
   ]
  },
  {
   "cell_type": "code",
   "execution_count": 10,
   "metadata": {
    "executionInfo": {
     "elapsed": 1776,
     "status": "ok",
     "timestamp": 1605885248835,
     "user": {
      "displayName": "Edoardo Putti",
      "photoUrl": "",
      "userId": "12586389992558135362"
     },
     "user_tz": -60
    },
    "id": "fEhL0KSLr1q1"
   },
   "outputs": [],
   "source": [
    "import os\n",
    "from datetime import datetime\n",
    "\n",
    "\n",
    "\n",
    "cwd = os.path.join(os.getcwd(),\"drive/My Drive/logs\")\n",
    "\n",
    "exps_dir = os.path.join(cwd, 'EfficientNetB5')\n",
    "if not os.path.exists(exps_dir):\n",
    "    os.makedirs(exps_dir)\n",
    "\n",
    "now = datetime.now().strftime('%b%d_%H-%M-%S')\n",
    "\n",
    "model_name = 'EfficientNetB5'\n",
    "\n",
    "exp_dir = os.path.join(exps_dir, model_name + '_' + str(now))\n",
    "if not os.path.exists(exp_dir):\n",
    "    os.makedirs(exp_dir)\n",
    "    \n",
    "callbacks = []\n",
    "\n",
    "# Model checkpoint\n",
    "# ----------------\n",
    "ckpt_dir = os.path.join(exp_dir, 'ckpts')\n",
    "if not os.path.exists(ckpt_dir):\n",
    "    os.makedirs(ckpt_dir)\n",
    "\n",
    "ckpt_callback = tf.keras.callbacks.ModelCheckpoint(filepath=os.path.join(ckpt_dir, 'cp.ckpt'), \n",
    "                                                   save_weights_only=True)  # False to save the model directly\n",
    "callbacks.append(ckpt_callback)\n",
    "\n",
    "# Visualize Learning on Tensorboard\n",
    "# ---------------------------------\n",
    "tb_dir = os.path.join(exp_dir, 'tb_logs')\n",
    "if not os.path.exists(tb_dir):\n",
    "    os.makedirs(tb_dir)\n",
    "    \n",
    "# By default shows losses and metrics for both training and validation\n",
    "tb_callback = tf.keras.callbacks.TensorBoard(log_dir=tb_dir,\n",
    "                                             profile_batch=0,\n",
    "                                             histogram_freq=1)  # if 1 shows weights histograms\n",
    "callbacks.append(tb_callback)\n",
    "\n",
    "# Early Stopping\n",
    "# --------------\n",
    "# adde a callback able to reduce the learning rate if a plateau is riched and the training is stalled\n",
    "early_stop = True\n",
    "if early_stop:\n",
    "  es_callback = tf.keras.callbacks.EarlyStopping(monitor='val_loss', patience=7, restore_best_weights=True)\n",
    "  callbacks.append(es_callback)\n",
    "  reduce_rl_callback = tf.keras.callbacks.ReduceLROnPlateau(monitor='val_loss', patience=5)\n",
    "  callbacks.append(reduce_rl_callback)\n",
    "\n"
   ]
  },
  {
   "cell_type": "code",
   "execution_count": 11,
   "metadata": {
    "colab": {
     "base_uri": "https://localhost:8080/"
    },
    "executionInfo": {
     "elapsed": 8563618,
     "status": "ok",
     "timestamp": 1605893825160,
     "user": {
      "displayName": "Edoardo Putti",
      "photoUrl": "",
      "userId": "12586389992558135362"
     },
     "user_tz": -60
    },
    "id": "dYiEz1zomUiv",
    "outputId": "12fa1617-734c-4439-cb62-b213459ea6d7"
   },
   "outputs": [
    {
     "name": "stdout",
     "output_type": "stream",
     "text": [
      "Epoch 1/100\n",
      "316/316 [==============================] - 284s 898ms/step - loss: 0.7602 - accuracy: 0.6399 - val_loss: 2.8342 - val_accuracy: 0.3292\n",
      "Epoch 2/100\n",
      "316/316 [==============================] - 276s 873ms/step - loss: 0.5608 - accuracy: 0.7546 - val_loss: 0.4579 - val_accuracy: 0.7829\n",
      "Epoch 3/100\n",
      "316/316 [==============================] - 274s 868ms/step - loss: 0.4514 - accuracy: 0.8133 - val_loss: 0.4817 - val_accuracy: 0.7936\n",
      "Epoch 4/100\n",
      "316/316 [==============================] - 274s 867ms/step - loss: 0.4046 - accuracy: 0.8365 - val_loss: 0.4473 - val_accuracy: 0.7918\n",
      "Epoch 5/100\n",
      "316/316 [==============================] - 274s 868ms/step - loss: 0.3648 - accuracy: 0.8547 - val_loss: 0.4578 - val_accuracy: 0.8078\n",
      "Epoch 6/100\n",
      "316/316 [==============================] - 274s 866ms/step - loss: 0.3379 - accuracy: 0.8686 - val_loss: 0.5079 - val_accuracy: 0.7829\n",
      "Epoch 7/100\n",
      "316/316 [==============================] - 275s 869ms/step - loss: 0.3068 - accuracy: 0.8810 - val_loss: 0.3146 - val_accuracy: 0.8630\n",
      "Epoch 8/100\n",
      "316/316 [==============================] - 274s 868ms/step - loss: 0.2913 - accuracy: 0.8878 - val_loss: 0.3900 - val_accuracy: 0.8292\n",
      "Epoch 9/100\n",
      "316/316 [==============================] - 274s 868ms/step - loss: 0.2774 - accuracy: 0.8983 - val_loss: 0.3000 - val_accuracy: 0.8790\n",
      "Epoch 10/100\n",
      "316/316 [==============================] - 274s 867ms/step - loss: 0.2564 - accuracy: 0.9024 - val_loss: 0.3818 - val_accuracy: 0.8488\n",
      "Epoch 11/100\n",
      "316/316 [==============================] - 274s 868ms/step - loss: 0.2626 - accuracy: 0.9006 - val_loss: 0.4246 - val_accuracy: 0.8185\n",
      "Epoch 12/100\n",
      "316/316 [==============================] - 274s 867ms/step - loss: 0.2422 - accuracy: 0.9080 - val_loss: 0.3286 - val_accuracy: 0.8790\n",
      "Epoch 13/100\n",
      "316/316 [==============================] - 273s 865ms/step - loss: 0.2250 - accuracy: 0.9129 - val_loss: 0.4207 - val_accuracy: 0.8363\n",
      "Epoch 14/100\n",
      "316/316 [==============================] - 274s 867ms/step - loss: 0.2297 - accuracy: 0.9163 - val_loss: 0.4449 - val_accuracy: 0.8327\n",
      "Epoch 15/100\n",
      "316/316 [==============================] - 274s 867ms/step - loss: 0.1663 - accuracy: 0.9388 - val_loss: 0.2280 - val_accuracy: 0.9146\n",
      "Epoch 16/100\n",
      "316/316 [==============================] - 274s 868ms/step - loss: 0.1417 - accuracy: 0.9458 - val_loss: 0.2059 - val_accuracy: 0.9288\n",
      "Epoch 17/100\n",
      "316/316 [==============================] - 274s 866ms/step - loss: 0.1437 - accuracy: 0.9513 - val_loss: 0.2035 - val_accuracy: 0.9253\n",
      "Epoch 18/100\n",
      "316/316 [==============================] - 274s 866ms/step - loss: 0.1231 - accuracy: 0.9578 - val_loss: 0.2319 - val_accuracy: 0.9199\n",
      "Epoch 19/100\n",
      "316/316 [==============================] - 275s 870ms/step - loss: 0.1229 - accuracy: 0.9565 - val_loss: 0.2212 - val_accuracy: 0.9199\n",
      "Epoch 20/100\n",
      "316/316 [==============================] - 274s 866ms/step - loss: 0.1168 - accuracy: 0.9572 - val_loss: 0.2125 - val_accuracy: 0.9270\n",
      "Epoch 21/100\n",
      "316/316 [==============================] - 275s 869ms/step - loss: 0.1019 - accuracy: 0.9636 - val_loss: 0.2081 - val_accuracy: 0.9270\n",
      "Epoch 22/100\n",
      "316/316 [==============================] - 273s 865ms/step - loss: 0.1005 - accuracy: 0.9644 - val_loss: 0.2003 - val_accuracy: 0.9342\n",
      "Epoch 23/100\n",
      "316/316 [==============================] - 274s 868ms/step - loss: 0.0952 - accuracy: 0.9681 - val_loss: 0.2143 - val_accuracy: 0.9306\n",
      "Epoch 24/100\n",
      "316/316 [==============================] - 274s 868ms/step - loss: 0.0982 - accuracy: 0.9675 - val_loss: 0.1904 - val_accuracy: 0.9324\n",
      "Epoch 25/100\n",
      "316/316 [==============================] - 275s 869ms/step - loss: 0.0816 - accuracy: 0.9725 - val_loss: 0.2006 - val_accuracy: 0.9288\n",
      "Epoch 26/100\n",
      "316/316 [==============================] - 275s 869ms/step - loss: 0.0866 - accuracy: 0.9687 - val_loss: 0.2022 - val_accuracy: 0.9288\n",
      "Epoch 27/100\n",
      "316/316 [==============================] - 274s 868ms/step - loss: 0.0752 - accuracy: 0.9719 - val_loss: 0.2101 - val_accuracy: 0.9253\n",
      "Epoch 28/100\n",
      "316/316 [==============================] - 274s 869ms/step - loss: 0.0801 - accuracy: 0.9739 - val_loss: 0.2292 - val_accuracy: 0.9235\n",
      "Epoch 29/100\n",
      "316/316 [==============================] - 274s 868ms/step - loss: 0.0761 - accuracy: 0.9713 - val_loss: 0.2421 - val_accuracy: 0.9181\n",
      "Epoch 30/100\n",
      "316/316 [==============================] - 274s 866ms/step - loss: 0.0746 - accuracy: 0.9755 - val_loss: 0.2347 - val_accuracy: 0.9164\n",
      "Epoch 31/100\n",
      "316/316 [==============================] - 274s 868ms/step - loss: 0.0705 - accuracy: 0.9762 - val_loss: 0.2314 - val_accuracy: 0.9181\n"
     ]
    },
    {
     "data": {
      "text/plain": [
       "<tensorflow.python.keras.callbacks.History at 0x7f04f5a9c748>"
      ]
     },
     "execution_count": 11,
     "metadata": {
      "tags": []
     },
     "output_type": "execute_result"
    }
   ],
   "source": [
    "epochs = 100\n",
    "model.fit(x=train_dataset, epochs=epochs,steps_per_epoch=len(train_gen),\n",
    "          validation_data=valid_dataset,\n",
    "          validation_steps=len(valid_gen), \n",
    "          callbacks=callbacks)"
   ]
  },
  {
   "cell_type": "code",
   "execution_count": 13,
   "metadata": {
    "executionInfo": {
     "elapsed": 9003,
     "status": "ok",
     "timestamp": 1605893840624,
     "user": {
      "displayName": "Edoardo Putti",
      "photoUrl": "",
      "userId": "12586389992558135362"
     },
     "user_tz": -60
    },
    "id": "BnwmitOrsviY"
   },
   "outputs": [],
   "source": [
    "model.save('/content/drive/My Drive/efficientNetB5_new2.h5')"
   ]
  },
  {
   "cell_type": "code",
   "execution_count": 12,
   "metadata": {
    "colab": {
     "base_uri": "https://localhost:8080/"
    },
    "executionInfo": {
     "elapsed": 12050,
     "status": "ok",
     "timestamp": 1605893837688,
     "user": {
      "displayName": "Edoardo Putti",
      "photoUrl": "",
      "userId": "12586389992558135362"
     },
     "user_tz": -60
    },
    "id": "jZJ_20ipr1q7",
    "outputId": "a181ab9e-1ef1-4318-d1fc-33acbae869a6"
   },
   "outputs": [
    {
     "name": "stdout",
     "output_type": "stream",
     "text": [
      "Found 450 validated image filenames belonging to 1 classes.\n",
      "29/29 [==============================] - 8s 293ms/step\n"
     ]
    }
   ],
   "source": [
    "import pandas as pd\n",
    "from datetime import datetime\n",
    "\n",
    "def create_csv(results, results_dir='/content/drive/My Drive/'):\n",
    "\n",
    "    csv_fname = 'results_EffNetB5_new2'\n",
    "    csv_fname += datetime.now().strftime('%b%d_%H-%M-%S') + '.csv'\n",
    "\n",
    "    with open(os.path.join(results_dir, csv_fname), 'w') as f:\n",
    "\n",
    "        f.write('Id,Category\\n')\n",
    "\n",
    "        for key, value in results.items():\n",
    "            f.write(key + ',' + str(value) + '\\n')\n",
    "\n",
    "\n",
    "test_dir = os.path.join(dataset_dir, 'test')\n",
    "\n",
    "images = [f for f in os.listdir(test_dir)]\n",
    "images = pd.DataFrame(images)\n",
    "images.rename(columns = {0:'filename'}, inplace = True)\n",
    "images[\"class\"] = 'test'\n",
    "\n",
    "test_gen = train_data_gen.flow_from_dataframe(images,\n",
    "                                               test_dir,\n",
    "                                               batch_size=bs,\n",
    "                                               target_size=(img_h, img_w),\n",
    "                                               class_mode='categorical',\n",
    "                                               shuffle=False,\n",
    "                                               seed=SEED)\n",
    "\n",
    "\n",
    "test_gen.reset()\n",
    "\n",
    "predictions = model.predict(test_gen, len(test_gen), verbose=1)\n",
    "\n",
    "results = {}\n",
    "images = test_gen.filenames\n",
    "i = 0\n",
    "\n",
    "for p in predictions:\n",
    "  prediction = np.argmax(p)\n",
    "  import ntpath\n",
    "  image_name = ntpath.basename(images[i])\n",
    "  results[image_name] = str(prediction)\n",
    "  i = i + 1\n",
    "\n",
    "create_csv(results)"
   ]
  },
  {
   "cell_type": "code",
   "execution_count": null,
   "metadata": {
    "id": "vMbM5NyLr1q9"
   },
   "outputs": [],
   "source": []
  }
 ],
 "metadata": {
  "accelerator": "GPU",
  "colab": {
   "name": "EfficientNetB5_new.ipynb",
   "provenance": []
  },
  "kernelspec": {
   "display_name": "Python 3",
   "language": "python",
   "name": "python3"
  },
  "language_info": {
   "codemirror_mode": {
    "name": "ipython",
    "version": 3
   },
   "file_extension": ".py",
   "mimetype": "text/x-python",
   "name": "python",
   "nbconvert_exporter": "python",
   "pygments_lexer": "ipython3",
   "version": "3.8.2"
  }
 },
 "nbformat": 4,
 "nbformat_minor": 4
}
