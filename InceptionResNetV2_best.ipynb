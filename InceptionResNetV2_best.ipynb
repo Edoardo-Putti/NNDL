{
 "cells": [
  {
   "cell_type": "code",
   "execution_count": 1,
   "metadata": {
    "executionInfo": {
     "elapsed": 1772,
     "status": "ok",
     "timestamp": 1605597642655,
     "user": {
      "displayName": "Edoardo Putti",
      "photoUrl": "",
      "userId": "12586389992558135362"
     },
     "user_tz": -60
    },
    "id": "t_IEO11osvh_"
   },
   "outputs": [],
   "source": [
    "import os\n",
    "import tensorflow as tf\n",
    "import numpy as np\n",
    "#set the seed to enable the reproducibility of the results\n",
    "SEED = 1234\n",
    "tf.random.set_seed(SEED)  \n",
    "np.random.seed(SEED)"
   ]
  },
  {
   "cell_type": "code",
   "execution_count": 2,
   "metadata": {
    "colab": {
     "base_uri": "https://localhost:8080/"
    },
    "executionInfo": {
     "elapsed": 54145,
     "status": "ok",
     "timestamp": 1605597701433,
     "user": {
      "displayName": "Edoardo Putti",
      "photoUrl": "",
      "userId": "12586389992558135362"
     },
     "user_tz": -60
    },
    "id": "gIVQYZ8duLmX",
    "outputId": "b266c62d-86ed-4a94-84ae-9250769aceaa"
   },
   "outputs": [
    {
     "name": "stdout",
     "output_type": "stream",
     "text": [
      "Mounted at /content/drive\n"
     ]
    }
   ],
   "source": [
    "# Run this cell only if you are using Colab with Drive\n",
    "from google.colab import drive\n",
    "drive.mount('/content/drive')"
   ]
  },
  {
   "cell_type": "code",
   "execution_count": null,
   "metadata": {
    "colab": {
     "base_uri": "https://localhost:8080/"
    },
    "executionInfo": {
     "elapsed": 9436,
     "status": "ok",
     "timestamp": 1605597713281,
     "user": {
      "displayName": "Edoardo Putti",
      "photoUrl": "",
      "userId": "12586389992558135362"
     },
     "user_tz": -60
    },
    "id": "NZjNeLMVzZ40",
    "outputId": "4a282ae0-401e-4de0-eeb1-385a35a7e962"
   },
   "outputs": [],
   "source": [
    "#Unzip the dataset in the colab session\n",
    "%%capture\n",
    "!unzip \"/content/drive/My Drive/data.zip\""
   ]
  },
  {
   "cell_type": "code",
   "execution_count": 4,
   "metadata": {
    "executionInfo": {
     "elapsed": 582,
     "status": "ok",
     "timestamp": 1605597942230,
     "user": {
      "displayName": "Edoardo Putti",
      "photoUrl": "",
      "userId": "12586389992558135362"
     },
     "user_tz": -60
    },
    "id": "PsH1X-txsviH"
   },
   "outputs": [],
   "source": [
    "# ImageDataGenerator\n",
    "# ------------------\n",
    "\n",
    "from tensorflow.keras.preprocessing.image import ImageDataGenerator\n",
    "\n",
    "apply_data_augmentation = True\n",
    "\n",
    "# Create training ImageDataGenerator object\n",
    "if apply_data_augmentation:\n",
    "    train_data_gen = ImageDataGenerator(rotation_range=10,\n",
    "                                        width_shift_range=10,\n",
    "                                        height_shift_range=10,\n",
    "                                        zoom_range=0.3,\n",
    "                                        horizontal_flip=True,\n",
    "                                        vertical_flip=True,\n",
    "                                        fill_mode='constant',\n",
    "                                        cval=0,\n",
    "                                        rescale=1./255)\n",
    "else:\n",
    "    train_data_gen = ImageDataGenerator(rescale=1./255)\n",
    "\n",
    "# Create validation and test ImageDataGenerator objects\n",
    "valid_data_gen = ImageDataGenerator(rescale=1./255)\n"
   ]
  },
  {
   "cell_type": "code",
   "execution_count": 16,
   "metadata": {
    "colab": {
     "base_uri": "https://localhost:8080/"
    },
    "executionInfo": {
     "elapsed": 758,
     "status": "ok",
     "timestamp": 1605608331751,
     "user": {
      "displayName": "Edoardo Putti",
      "photoUrl": "",
      "userId": "12586389992558135362"
     },
     "user_tz": -60
    },
    "id": "HjwyaodesviJ",
    "outputId": "73751a92-8550-4af2-f75d-91d6ef83cb8f"
   },
   "outputs": [
    {
     "name": "stdout",
     "output_type": "stream",
     "text": [
      "Found 5052 images belonging to 3 classes.\n",
      "Found 562 images belonging to 3 classes.\n"
     ]
    }
   ],
   "source": [
    "# Create generators to read images from dataset directory\n",
    "# -------------------------------------------------------\n",
    "# Get current working directory\n",
    "cwd = os.getcwd()\n",
    "dataset_dir = os.path.join(cwd, 'data')\n",
    "\n",
    "# img\n",
    "\n",
    "# Batch size\n",
    "bs = 32\n",
    "\n",
    "# img shape\n",
    "img_h = 256\n",
    "img_w = 256\n",
    "\n",
    "num_classes=3\n",
    "\n",
    "# Training\n",
    "training_dir = os.path.join(dataset_dir, 'training')\n",
    "train_gen = train_data_gen.flow_from_directory(training_dir,\n",
    "                                               batch_size=bs, \n",
    "                                               class_mode='categorical',\n",
    "                                               shuffle=True,\n",
    "                                               seed=SEED)  # targets are directly converted into one-hot vectors\n",
    "\n",
    "# Validation\n",
    "validation_dir = os.path.join(dataset_dir, 'validation')\n",
    "valid_gen = valid_data_gen.flow_from_directory(validation_dir,\n",
    "                                               batch_size=bs, \n",
    "                                               class_mode='categorical',\n",
    "                                               shuffle=False,\n",
    "                                               seed=SEED)\n",
    "\n"
   ]
  },
  {
   "cell_type": "code",
   "execution_count": 6,
   "metadata": {
    "executionInfo": {
     "elapsed": 6008,
     "status": "ok",
     "timestamp": 1605597956080,
     "user": {
      "displayName": "Edoardo Putti",
      "photoUrl": "",
      "userId": "12586389992558135362"
     },
     "user_tz": -60
    },
    "id": "3-KxwLWJsviM"
   },
   "outputs": [],
   "source": [
    "# Create Dataset objects\n",
    "# ----------------------\n",
    "size = (256, 256)\n",
    "# Training\n",
    "train_dataset = tf.data.Dataset.from_generator(lambda: train_gen,\n",
    "                                               output_types=(tf.float32, tf.float32),\n",
    "                                               output_shapes=([None, img_h, img_w, 3], [None, num_classes]))\n",
    "\n",
    "# Shuffle (Already done in generator..)\n",
    "# train_dataset = train_dataset.shuffle(buffer_size=len(train_gen))\n",
    "\n",
    "# Normalize images (Already done in generator..)\n",
    "# def normalize_img(x_, y_):\n",
    "#     return tf.cast(x_, tf.float32) / 255., y_\n",
    "\n",
    "# train_dataset = train_dataset.map(normalize_img)\n",
    "\n",
    "# 1-hot encoding <- for categorical cross entropy (Already done in generator..)\n",
    "# def to_categorical(x_, y_):\n",
    "#     return x_, tf.one_hot(y_, depth=10)\n",
    "\n",
    "# train_dataset = train_dataset.map(to_categorical)\n",
    "\n",
    "# Divide in batches (Already done in generator..)\n",
    "# train_dataset = train_dataset.batch(bs)\n",
    "\n",
    "# Repeat\n",
    "# Without calling the repeat function the dataset \n",
    "# will be empty after consuming all the images\n",
    "\n",
    "# we apply a resize function to all the images in the dataset \n",
    "train_dataset = train_dataset.map(lambda x, y: (tf.image.resize(x, size), y))\n",
    "train_dataset = train_dataset.repeat()\n",
    "\n",
    "# Validation\n",
    "# ----------\n",
    "valid_dataset = tf.data.Dataset.from_generator(lambda: valid_gen, \n",
    "                                               output_types=(tf.float32, tf.float32),\n",
    "                                               output_shapes=([None, img_h, img_w, 3], [None, num_classes]))\n",
    "\n",
    "# Repeat and resizing\n",
    "valid_dataset = valid_dataset.map(lambda x, y: (tf.image.resize(x, size), y))\n",
    "valid_dataset = valid_dataset.repeat()\n",
    "\n"
   ]
  },
  {
   "cell_type": "code",
   "execution_count": null,
   "metadata": {
    "id": "SjevDzEHsviQ"
   },
   "outputs": [],
   "source": [
    "# cell to see the training data \n",
    "import matplotlib.pyplot as plt\n",
    "\n",
    "plt.figure(figsize=(10, 10))\n",
    "for i, (image, label) in enumerate(train_dataset.take(9)):\n",
    "    ax = plt.subplot(3, 3, i + 1)\n",
    "    plt.imshow(image[i])\n",
    "    plt.title(image[i].shape)\n",
    "    plt.axis(\"off\")"
   ]
  },
  {
   "cell_type": "code",
   "execution_count": 7,
   "metadata": {
    "colab": {
     "base_uri": "https://localhost:8080/"
    },
    "executionInfo": {
     "elapsed": 9495,
     "status": "ok",
     "timestamp": 1605597967911,
     "user": {
      "displayName": "Edoardo Putti",
      "photoUrl": "",
      "userId": "12586389992558135362"
     },
     "user_tz": -60
    },
    "id": "wlrLB4eKsviS",
    "outputId": "57fa90ca-380b-443c-a35f-ef5262ffa24c"
   },
   "outputs": [
    {
     "name": "stdout",
     "output_type": "stream",
     "text": [
      "Downloading data from https://storage.googleapis.com/tensorflow/keras-applications/inception_resnet_v2/inception_resnet_v2_weights_tf_dim_ordering_tf_kernels_notop.h5\n",
      "219062272/219055592 [==============================] - 3s 0us/step\n"
     ]
    }
   ],
   "source": [
    "# import the pre trained model without the top classifier for feature extraction\n",
    "IResNet = tf.keras.applications.InceptionResNetV2(weights='imagenet', include_top=False, input_shape=(img_h, img_w, 3))"
   ]
  },
  {
   "cell_type": "code",
   "execution_count": 22,
   "metadata": {
    "colab": {
     "base_uri": "https://localhost:8080/"
    },
    "executionInfo": {
     "elapsed": 3079,
     "status": "ok",
     "timestamp": 1605615108433,
     "user": {
      "displayName": "Edoardo Putti",
      "photoUrl": "",
      "userId": "12586389992558135362"
     },
     "user_tz": -60
    },
    "id": "jbRRQKigydUA",
    "outputId": "ef396c78-0590-4c2d-aca5-6fe622475344"
   },
   "outputs": [
    {
     "name": "stdout",
     "output_type": "stream",
     "text": [
      "Model: \"sequential_6\"\n",
      "_________________________________________________________________\n",
      "Layer (type)                 Output Shape              Param #   \n",
      "=================================================================\n",
      "inception_resnet_v2 (Functio (None, 6, 6, 1536)        54336736  \n",
      "_________________________________________________________________\n",
      "dense_10 (Dense)             (None, 6, 6, 512)         786944    \n",
      "_________________________________________________________________\n",
      "dense_11 (Dense)             (None, 6, 6, 512)         262656    \n",
      "_________________________________________________________________\n",
      "flatten_3 (Flatten)          (None, 18432)             0         \n",
      "_________________________________________________________________\n",
      "dropout_7 (Dropout)          (None, 18432)             0         \n",
      "_________________________________________________________________\n",
      "dense_12 (Dense)             (None, 512)               9437696   \n",
      "_________________________________________________________________\n",
      "dropout_8 (Dropout)          (None, 512)               0         \n",
      "_________________________________________________________________\n",
      "dense_13 (Dense)             (None, 3)                 1539      \n",
      "=================================================================\n",
      "Total params: 64,825,571\n",
      "Trainable params: 64,420,515\n",
      "Non-trainable params: 405,056\n",
      "_________________________________________________________________\n"
     ]
    }
   ],
   "source": [
    "# Create Model\n",
    "# ------------\n",
    "\n",
    "finetuning = True\n",
    "\n",
    "if finetuning:\n",
    "    freeze_until = 15 # layer from which we want to fine-tune\n",
    "    \n",
    "    for layer in IResNet.layers[:freeze_until]:\n",
    "        layer.trainable = False\n",
    "else:\n",
    "    IResNet.trainable = False\n",
    "    \n",
    "model = tf.keras.Sequential()\n",
    "model.add(IResNet)\n",
    "# add layers to generate a new classifier \n",
    "# we use more dense layer and some regularization layers to add complexity\n",
    "# avoiding to overfit to much\n",
    "model.add(tf.keras.layers.Dense(units=512, activation=tf.keras.activations.relu, kernel_regularizer=tf.keras.regularizers.l2(0.001)))\n",
    "model.add(tf.keras.layers.Dense(units=512, activation=tf.keras.activations.relu, kernel_regularizer=tf.keras.regularizers.l2(0.001)))\n",
    "model.add(tf.keras.layers.Flatten())\n",
    "model.add(tf.keras.layers.Dropout(0.5))\n",
    "model.add(tf.keras.layers.Dense(units=512, activation=tf.keras.activations.relu, kernel_regularizer=tf.keras.regularizers.l2(0.001)))\n",
    "model.add(tf.keras.layers.Dropout(0.5))\n",
    "model.add(tf.keras.layers.Dense(units=3, activation='softmax'))\n",
    "\n",
    "# Visualize created model as a table\n",
    "model.summary()\n",
    "\n"
   ]
  },
  {
   "cell_type": "code",
   "execution_count": 23,
   "metadata": {
    "colab": {
     "base_uri": "https://localhost:8080/"
    },
    "executionInfo": {
     "elapsed": 13817764,
     "status": "ok",
     "timestamp": 1605628933665,
     "user": {
      "displayName": "Edoardo Putti",
      "photoUrl": "",
      "userId": "12586389992558135362"
     },
     "user_tz": -60
    },
    "id": "jZZReH1esviU",
    "outputId": "92170d47-b9da-4d61-b1ce-6fe18b350e59"
   },
   "outputs": [
    {
     "name": "stdout",
     "output_type": "stream",
     "text": [
      "Epoch 1/100\n",
      "158/158 [==============================] - 198s 1s/step - loss: 2.4559 - accuracy: 0.9574 - val_loss: 2.4616 - val_accuracy: 0.9199\n",
      "Epoch 2/100\n",
      "158/158 [==============================] - 196s 1s/step - loss: 2.1202 - accuracy: 0.9974 - val_loss: 2.4209 - val_accuracy: 0.9164\n",
      "Epoch 3/100\n",
      "158/158 [==============================] - 196s 1s/step - loss: 2.0031 - accuracy: 0.9974 - val_loss: 2.4027 - val_accuracy: 0.9164\n",
      "Epoch 4/100\n",
      "158/158 [==============================] - 196s 1s/step - loss: 1.8925 - accuracy: 0.9976 - val_loss: 2.4177 - val_accuracy: 0.9199\n",
      "Epoch 5/100\n",
      "158/158 [==============================] - 196s 1s/step - loss: 1.7988 - accuracy: 0.9958 - val_loss: 2.2985 - val_accuracy: 0.9217\n",
      "Epoch 6/100\n",
      "158/158 [==============================] - 196s 1s/step - loss: 1.7094 - accuracy: 0.9970 - val_loss: 2.1325 - val_accuracy: 0.9181\n",
      "Epoch 7/100\n",
      "158/158 [==============================] - 196s 1s/step - loss: 1.6198 - accuracy: 0.9976 - val_loss: 2.1023 - val_accuracy: 0.9164\n",
      "Epoch 8/100\n",
      "158/158 [==============================] - 196s 1s/step - loss: 1.5392 - accuracy: 0.9976 - val_loss: 2.0319 - val_accuracy: 0.9128\n",
      "Epoch 9/100\n",
      "158/158 [==============================] - 196s 1s/step - loss: 1.4691 - accuracy: 0.9966 - val_loss: 1.9310 - val_accuracy: 0.9217\n",
      "Epoch 10/100\n",
      "158/158 [==============================] - 196s 1s/step - loss: 1.3974 - accuracy: 0.9976 - val_loss: 1.9100 - val_accuracy: 0.9146\n",
      "Epoch 11/100\n",
      "158/158 [==============================] - 196s 1s/step - loss: 1.3341 - accuracy: 0.9978 - val_loss: 1.7866 - val_accuracy: 0.9199\n",
      "Epoch 12/100\n",
      "158/158 [==============================] - 196s 1s/step - loss: 1.2671 - accuracy: 0.9982 - val_loss: 1.7618 - val_accuracy: 0.9110\n",
      "Epoch 13/100\n",
      "158/158 [==============================] - 197s 1s/step - loss: 1.2131 - accuracy: 0.9968 - val_loss: 1.6962 - val_accuracy: 0.9146\n",
      "Epoch 14/100\n",
      "158/158 [==============================] - 196s 1s/step - loss: 1.1544 - accuracy: 0.9986 - val_loss: 1.7063 - val_accuracy: 0.9199\n",
      "Epoch 15/100\n",
      "158/158 [==============================] - 196s 1s/step - loss: 1.1083 - accuracy: 0.9972 - val_loss: 1.6186 - val_accuracy: 0.9217\n",
      "Epoch 16/100\n",
      "158/158 [==============================] - 195s 1s/step - loss: 1.0605 - accuracy: 0.9968 - val_loss: 1.5653 - val_accuracy: 0.9146\n",
      "Epoch 17/100\n",
      "158/158 [==============================] - 196s 1s/step - loss: 1.0125 - accuracy: 0.9980 - val_loss: 1.4803 - val_accuracy: 0.9217\n",
      "Epoch 18/100\n",
      "158/158 [==============================] - 195s 1s/step - loss: 0.9716 - accuracy: 0.9976 - val_loss: 1.4102 - val_accuracy: 0.9217\n",
      "Epoch 19/100\n",
      "158/158 [==============================] - 195s 1s/step - loss: 0.9242 - accuracy: 0.9982 - val_loss: 1.3980 - val_accuracy: 0.9253\n",
      "Epoch 20/100\n",
      "158/158 [==============================] - 196s 1s/step - loss: 0.8830 - accuracy: 0.9988 - val_loss: 1.3472 - val_accuracy: 0.9217\n",
      "Epoch 21/100\n",
      "158/158 [==============================] - 196s 1s/step - loss: 0.8518 - accuracy: 0.9980 - val_loss: 1.3252 - val_accuracy: 0.9288\n",
      "Epoch 22/100\n",
      "158/158 [==============================] - 197s 1s/step - loss: 0.8096 - accuracy: 0.9978 - val_loss: 1.2810 - val_accuracy: 0.9253\n",
      "Epoch 23/100\n",
      "158/158 [==============================] - 198s 1s/step - loss: 0.7732 - accuracy: 0.9988 - val_loss: 1.3456 - val_accuracy: 0.9235\n",
      "Epoch 24/100\n",
      "158/158 [==============================] - 199s 1s/step - loss: 0.7413 - accuracy: 0.9980 - val_loss: 1.2936 - val_accuracy: 0.9270\n",
      "Epoch 25/100\n",
      "158/158 [==============================] - 203s 1s/step - loss: 0.7102 - accuracy: 0.9980 - val_loss: 1.1602 - val_accuracy: 0.9270\n",
      "Epoch 26/100\n",
      "158/158 [==============================] - 203s 1s/step - loss: 0.6805 - accuracy: 0.9990 - val_loss: 1.2008 - val_accuracy: 0.9217\n",
      "Epoch 27/100\n",
      "158/158 [==============================] - 202s 1s/step - loss: 0.6502 - accuracy: 0.9982 - val_loss: 1.0937 - val_accuracy: 0.9253\n",
      "Epoch 28/100\n",
      "158/158 [==============================] - 203s 1s/step - loss: 0.6209 - accuracy: 0.9988 - val_loss: 1.1003 - val_accuracy: 0.9288\n",
      "Epoch 29/100\n",
      "158/158 [==============================] - 203s 1s/step - loss: 0.5933 - accuracy: 0.9988 - val_loss: 1.0503 - val_accuracy: 0.9270\n",
      "Epoch 30/100\n",
      "158/158 [==============================] - 203s 1s/step - loss: 0.5696 - accuracy: 0.9978 - val_loss: 1.0149 - val_accuracy: 0.9270\n",
      "Epoch 31/100\n",
      "158/158 [==============================] - 204s 1s/step - loss: 0.5439 - accuracy: 0.9982 - val_loss: 1.0146 - val_accuracy: 0.9270\n",
      "Epoch 32/100\n",
      "158/158 [==============================] - 204s 1s/step - loss: 0.5175 - accuracy: 0.9988 - val_loss: 1.0145 - val_accuracy: 0.9235\n",
      "Epoch 33/100\n",
      "158/158 [==============================] - 204s 1s/step - loss: 0.4961 - accuracy: 0.9986 - val_loss: 0.9798 - val_accuracy: 0.9288\n",
      "Epoch 34/100\n",
      "158/158 [==============================] - 204s 1s/step - loss: 0.4748 - accuracy: 0.9984 - val_loss: 1.0133 - val_accuracy: 0.9253\n",
      "Epoch 35/100\n",
      "158/158 [==============================] - 204s 1s/step - loss: 0.4544 - accuracy: 0.9982 - val_loss: 0.9496 - val_accuracy: 0.9342\n",
      "Epoch 36/100\n",
      "158/158 [==============================] - 205s 1s/step - loss: 0.4318 - accuracy: 0.9990 - val_loss: 1.0522 - val_accuracy: 0.9235\n",
      "Epoch 37/100\n",
      "158/158 [==============================] - 204s 1s/step - loss: 0.4154 - accuracy: 0.9986 - val_loss: 0.9907 - val_accuracy: 0.9235\n",
      "Epoch 38/100\n",
      "158/158 [==============================] - 204s 1s/step - loss: 0.3975 - accuracy: 0.9992 - val_loss: 0.9105 - val_accuracy: 0.9288\n",
      "Epoch 39/100\n",
      "158/158 [==============================] - 204s 1s/step - loss: 0.3796 - accuracy: 0.9984 - val_loss: 0.9519 - val_accuracy: 0.9235\n",
      "Epoch 40/100\n",
      "158/158 [==============================] - 205s 1s/step - loss: 0.3675 - accuracy: 0.9982 - val_loss: 0.9105 - val_accuracy: 0.9181\n",
      "Epoch 41/100\n",
      "158/158 [==============================] - 205s 1s/step - loss: 0.3478 - accuracy: 0.9986 - val_loss: 0.8665 - val_accuracy: 0.9270\n",
      "Epoch 42/100\n",
      "158/158 [==============================] - 205s 1s/step - loss: 0.3323 - accuracy: 0.9990 - val_loss: 0.9096 - val_accuracy: 0.9181\n",
      "Epoch 43/100\n",
      "158/158 [==============================] - 206s 1s/step - loss: 0.3204 - accuracy: 0.9982 - val_loss: 0.8276 - val_accuracy: 0.9288\n",
      "Epoch 44/100\n",
      "158/158 [==============================] - 205s 1s/step - loss: 0.3052 - accuracy: 0.9994 - val_loss: 0.8904 - val_accuracy: 0.9217\n",
      "Epoch 45/100\n",
      "158/158 [==============================] - 206s 1s/step - loss: 0.2948 - accuracy: 0.9988 - val_loss: 0.7866 - val_accuracy: 0.9253\n",
      "Epoch 46/100\n",
      "158/158 [==============================] - 204s 1s/step - loss: 0.2809 - accuracy: 0.9982 - val_loss: 0.7705 - val_accuracy: 0.9324\n",
      "Epoch 47/100\n",
      "158/158 [==============================] - 200s 1s/step - loss: 0.2673 - accuracy: 0.9992 - val_loss: 0.8461 - val_accuracy: 0.9235\n",
      "Epoch 48/100\n",
      "158/158 [==============================] - 197s 1s/step - loss: 0.2572 - accuracy: 0.9994 - val_loss: 0.8284 - val_accuracy: 0.9253\n",
      "Epoch 49/100\n",
      "158/158 [==============================] - 197s 1s/step - loss: 0.2488 - accuracy: 0.9982 - val_loss: 0.7399 - val_accuracy: 0.9217\n",
      "Epoch 50/100\n",
      "158/158 [==============================] - 196s 1s/step - loss: 0.2383 - accuracy: 0.9984 - val_loss: 0.7081 - val_accuracy: 0.9235\n",
      "Epoch 51/100\n",
      "158/158 [==============================] - 196s 1s/step - loss: 0.2255 - accuracy: 0.9992 - val_loss: 0.7858 - val_accuracy: 0.9235\n",
      "Epoch 52/100\n",
      "158/158 [==============================] - 196s 1s/step - loss: 0.2210 - accuracy: 0.9984 - val_loss: 0.7221 - val_accuracy: 0.9199\n",
      "Epoch 53/100\n",
      "158/158 [==============================] - 196s 1s/step - loss: 0.2107 - accuracy: 0.9982 - val_loss: 0.6664 - val_accuracy: 0.9235\n",
      "Epoch 54/100\n",
      "158/158 [==============================] - 196s 1s/step - loss: 0.2008 - accuracy: 0.9986 - val_loss: 0.7196 - val_accuracy: 0.9235\n",
      "Epoch 55/100\n",
      "158/158 [==============================] - 196s 1s/step - loss: 0.1924 - accuracy: 0.9988 - val_loss: 0.7170 - val_accuracy: 0.9270\n",
      "Epoch 56/100\n",
      "158/158 [==============================] - 197s 1s/step - loss: 0.1843 - accuracy: 0.9994 - val_loss: 0.7704 - val_accuracy: 0.9217\n",
      "Epoch 57/100\n",
      "158/158 [==============================] - 196s 1s/step - loss: 0.1779 - accuracy: 0.9992 - val_loss: 0.7449 - val_accuracy: 0.9235\n",
      "Epoch 58/100\n",
      "158/158 [==============================] - 196s 1s/step - loss: 0.1699 - accuracy: 0.9988 - val_loss: 0.7241 - val_accuracy: 0.9217\n",
      "Epoch 59/100\n",
      "158/158 [==============================] - 196s 1s/step - loss: 0.1638 - accuracy: 0.9988 - val_loss: 0.6526 - val_accuracy: 0.9324\n",
      "Epoch 60/100\n",
      "158/158 [==============================] - 196s 1s/step - loss: 0.1576 - accuracy: 0.9984 - val_loss: 0.6752 - val_accuracy: 0.9217\n",
      "Epoch 61/100\n",
      "158/158 [==============================] - 196s 1s/step - loss: 0.1525 - accuracy: 0.9986 - val_loss: 0.6367 - val_accuracy: 0.9235\n",
      "Epoch 62/100\n",
      "158/158 [==============================] - 196s 1s/step - loss: 0.1481 - accuracy: 0.9982 - val_loss: 0.6144 - val_accuracy: 0.9217\n",
      "Epoch 63/100\n",
      "158/158 [==============================] - 196s 1s/step - loss: 0.1411 - accuracy: 0.9982 - val_loss: 0.6416 - val_accuracy: 0.9199\n",
      "Epoch 64/100\n",
      "158/158 [==============================] - 196s 1s/step - loss: 0.1368 - accuracy: 0.9988 - val_loss: 0.6613 - val_accuracy: 0.9217\n",
      "Epoch 65/100\n",
      "158/158 [==============================] - 196s 1s/step - loss: 0.1301 - accuracy: 0.9990 - val_loss: 0.7069 - val_accuracy: 0.9217\n",
      "Epoch 66/100\n",
      "158/158 [==============================] - 196s 1s/step - loss: 0.1263 - accuracy: 0.9986 - val_loss: 0.7173 - val_accuracy: 0.9253\n",
      "Epoch 67/100\n",
      "158/158 [==============================] - 196s 1s/step - loss: 0.1206 - accuracy: 0.9988 - val_loss: 0.7003 - val_accuracy: 0.9253\n",
      "Epoch 68/100\n",
      "158/158 [==============================] - 196s 1s/step - loss: 0.1165 - accuracy: 0.9994 - val_loss: 0.7532 - val_accuracy: 0.9217\n",
      "Epoch 69/100\n",
      "158/158 [==============================] - 196s 1s/step - loss: 0.1133 - accuracy: 0.9990 - val_loss: 0.7866 - val_accuracy: 0.9199\n"
     ]
    },
    {
     "data": {
      "text/plain": [
       "<tensorflow.python.keras.callbacks.History at 0x7f518d4ef9b0>"
      ]
     },
     "execution_count": 23,
     "metadata": {
      "tags": []
     },
     "output_type": "execute_result"
    }
   ],
   "source": [
    "# Optimization params\n",
    "# -------------------\n",
    "\n",
    "# Loss\n",
    "loss = tf.keras.losses.CategoricalCrossentropy()\n",
    "\n",
    "# learning rate\n",
    "lr = 1e-5\n",
    "optimizer = tf.keras.optimizers.Adam(learning_rate=lr)\n",
    "# -------------------\n",
    "\n",
    "# Validation metrics\n",
    "# ------------------\n",
    "\n",
    "metrics = ['accuracy']\n",
    "# ------------------\n",
    "\n",
    "# Compile Model\n",
    "model.compile(optimizer=optimizer, loss=loss, metrics=metrics)\n",
    "\n",
    "import os\n",
    "from datetime import datetime\n",
    "\n",
    "\n",
    "\n",
    "cwd = os.path.join(os.getcwd(),\"drive/My Drive/logs\")\n",
    "\n",
    "exps_dir = os.path.join(cwd, 'inceptionResNetV2_3')\n",
    "if not os.path.exists(exps_dir):\n",
    "    os.makedirs(exps_dir)\n",
    "\n",
    "now = datetime.now().strftime('%b%d_%H-%M-%S')\n",
    "\n",
    "model_name = 'IResNet2'\n",
    "\n",
    "exp_dir = os.path.join(exps_dir, model_name + '_' + str(now))\n",
    "if not os.path.exists(exp_dir):\n",
    "    os.makedirs(exp_dir)\n",
    "    \n",
    "callbacks = []\n",
    "\n",
    "# Model checkpoint\n",
    "# ----------------\n",
    "ckpt_dir = os.path.join(exp_dir, 'ckpts')\n",
    "if not os.path.exists(ckpt_dir):\n",
    "    os.makedirs(ckpt_dir)\n",
    "\n",
    "ckpt_callback = tf.keras.callbacks.ModelCheckpoint(filepath=os.path.join(ckpt_dir, 'cp.ckpt'), \n",
    "                                                   save_weights_only=True)  # False to save the model directly\n",
    "callbacks.append(ckpt_callback)\n",
    "\n",
    "# Visualize Learning on Tensorboard\n",
    "# ---------------------------------\n",
    "tb_dir = os.path.join(exp_dir, 'tb_logs')\n",
    "if not os.path.exists(tb_dir):\n",
    "    os.makedirs(tb_dir)\n",
    "    \n",
    "# By default shows losses and metrics for both training and validation\n",
    "tb_callback = tf.keras.callbacks.TensorBoard(log_dir=tb_dir,\n",
    "                                             profile_batch=0,\n",
    "                                             histogram_freq=1)  # if 1 shows weights histograms\n",
    "callbacks.append(tb_callback)\n",
    "\n",
    "# Early Stopping\n",
    "# --------------\n",
    "early_stop = True\n",
    "if early_stop:\n",
    "    es_callback = tf.keras.callbacks.EarlyStopping(monitor='val_loss', patience=7, restore_best_weights=False)\n",
    "    callbacks.append(es_callback)\n",
    "\n",
    "epochs = 100\n",
    "model.fit(x=train_dataset, epochs=epochs,steps_per_epoch=len(train_gen),\n",
    "          validation_data=valid_dataset,\n",
    "          validation_steps=len(valid_gen), \n",
    "          callbacks=callbacks)"
   ]
  },
  {
   "cell_type": "code",
   "execution_count": 24,
   "metadata": {
    "executionInfo": {
     "elapsed": 6625,
     "status": "ok",
     "timestamp": 1605629870863,
     "user": {
      "displayName": "Edoardo Putti",
      "photoUrl": "",
      "userId": "12586389992558135362"
     },
     "user_tz": -60
    },
    "id": "BnwmitOrsviY"
   },
   "outputs": [],
   "source": [
    "model.save('/content/drive/My Drive/IresNet_3.h5')"
   ]
  },
  {
   "cell_type": "code",
   "execution_count": 25,
   "metadata": {
    "colab": {
     "base_uri": "https://localhost:8080/"
    },
    "executionInfo": {
     "elapsed": 17852,
     "status": "ok",
     "timestamp": 1605629882699,
     "user": {
      "displayName": "Edoardo Putti",
      "photoUrl": "",
      "userId": "12586389992558135362"
     },
     "user_tz": -60
    },
    "id": "1TTaF8AcwHlN",
    "outputId": "d5aef810-9010-41b0-8ddd-e4009a10cfc0"
   },
   "outputs": [
    {
     "name": "stdout",
     "output_type": "stream",
     "text": [
      "Found 450 validated image filenames belonging to 1 classes.\n",
      "15/15 [==============================] - 9s 577ms/step\n"
     ]
    }
   ],
   "source": [
    "import pandas as pd\n",
    "from datetime import datetime\n",
    "\n",
    "def create_csv(results, results_dir='/content/drive/My Drive/'):\n",
    "\n",
    "    csv_fname = 'results_Iresnet_3'\n",
    "    csv_fname += datetime.now().strftime('%b%d_%H-%M-%S') + '.csv'\n",
    "\n",
    "    with open(os.path.join(results_dir, csv_fname), 'w') as f:\n",
    "\n",
    "        f.write('Id,Category\\n')\n",
    "\n",
    "        for key, value in results.items():\n",
    "            f.write(key + ',' + str(value) + '\\n')\n",
    "\n",
    "\n",
    "test_dir = os.path.join(dataset_dir, 'test')\n",
    "\n",
    "images = [f for f in os.listdir(test_dir)]\n",
    "images = pd.DataFrame(images)\n",
    "images.rename(columns = {0:'filename'}, inplace = True)\n",
    "images[\"class\"] = 'test'\n",
    "\n",
    "test_gen = train_data_gen.flow_from_dataframe(images,\n",
    "                                               test_dir,\n",
    "                                               batch_size=bs,\n",
    "                                               target_size=(img_h, img_w),\n",
    "                                               class_mode='categorical',\n",
    "                                               shuffle=False,\n",
    "                                               seed=SEED)\n",
    "\n",
    "\n",
    "test_gen.reset()\n",
    "\n",
    "predictions = model.predict(test_gen, len(test_gen), verbose=1)\n",
    "\n",
    "results = {}\n",
    "images = test_gen.filenames\n",
    "i = 0\n",
    "\n",
    "for p in predictions:\n",
    "  prediction = np.argmax(p)\n",
    "  import ntpath\n",
    "  image_name = ntpath.basename(images[i])\n",
    "  results[image_name] = str(prediction)\n",
    "  i = i + 1\n",
    "\n",
    "create_csv(results)"
   ]
  },
  {
   "cell_type": "code",
   "execution_count": null,
   "metadata": {
    "id": "MjT4mmoowHlQ"
   },
   "outputs": [],
   "source": []
  }
 ],
 "metadata": {
  "accelerator": "GPU",
  "colab": {
   "name": "InceptionResNetV2.ipynb",
   "provenance": []
  },
  "kernelspec": {
   "display_name": "Python 3",
   "language": "python",
   "name": "python3"
  },
  "language_info": {
   "codemirror_mode": {
    "name": "ipython",
    "version": 3
   },
   "file_extension": ".py",
   "mimetype": "text/x-python",
   "name": "python",
   "nbconvert_exporter": "python",
   "pygments_lexer": "ipython3",
   "version": "3.8.2"
  }
 },
 "nbformat": 4,
 "nbformat_minor": 4
}
