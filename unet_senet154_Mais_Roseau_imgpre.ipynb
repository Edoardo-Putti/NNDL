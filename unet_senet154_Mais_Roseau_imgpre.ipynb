{
  "nbformat": 4,
  "nbformat_minor": 0,
  "metadata": {
    "kernelspec": {
      "display_name": "Python 3",
      "language": "python",
      "name": "python3"
    },
    "language_info": {
      "codemirror_mode": {
        "name": "ipython",
        "version": 3
      },
      "file_extension": ".py",
      "mimetype": "text/x-python",
      "name": "python",
      "nbconvert_exporter": "python",
      "pygments_lexer": "ipython3",
      "version": "3.7.7"
    },
    "colab": {
      "name": "unet_senet154_Mais_Roseau_imgpre.ipynb",
      "provenance": [],
      "collapsed_sections": []
    },
    "accelerator": "GPU"
  },
  "cells": [
    {
      "cell_type": "code",
      "metadata": {
        "id": "nbuv5f6KY3v2",
        "colab": {
          "base_uri": "https://localhost:8080/"
        },
        "outputId": "a675faf0-fff2-4a1c-f004-7c8f8af0da2d"
      },
      "source": [
        "!pip install git+https://github.com/qubvel/segmentation_models"
      ],
      "execution_count": 1,
      "outputs": [
        {
          "output_type": "stream",
          "text": [
            "Collecting git+https://github.com/qubvel/segmentation_models\n",
            "  Cloning https://github.com/qubvel/segmentation_models to /tmp/pip-req-build-20t87o4e\n",
            "  Running command git clone -q https://github.com/qubvel/segmentation_models /tmp/pip-req-build-20t87o4e\n",
            "  Running command git submodule update --init --recursive -q\n",
            "Collecting keras_applications<=1.0.8,>=1.0.7\n",
            "\u001b[?25l  Downloading https://files.pythonhosted.org/packages/71/e3/19762fdfc62877ae9102edf6342d71b28fbfd9dea3d2f96a882ce099b03f/Keras_Applications-1.0.8-py3-none-any.whl (50kB)\n",
            "\u001b[K     |████████████████████████████████| 51kB 3.0MB/s \n",
            "\u001b[?25hCollecting image-classifiers==1.0.0\n",
            "  Downloading https://files.pythonhosted.org/packages/81/98/6f84720e299a4942ab80df5f76ab97b7828b24d1de5e9b2cbbe6073228b7/image_classifiers-1.0.0-py3-none-any.whl\n",
            "Collecting efficientnet==1.0.0\n",
            "  Downloading https://files.pythonhosted.org/packages/97/82/f3ae07316f0461417dc54affab6e86ab188a5a22f33176d35271628b96e0/efficientnet-1.0.0-py3-none-any.whl\n",
            "Requirement already satisfied: h5py in /usr/local/lib/python3.6/dist-packages (from keras_applications<=1.0.8,>=1.0.7->segmentation-models==1.0.1) (2.10.0)\n",
            "Requirement already satisfied: numpy>=1.9.1 in /usr/local/lib/python3.6/dist-packages (from keras_applications<=1.0.8,>=1.0.7->segmentation-models==1.0.1) (1.18.5)\n",
            "Requirement already satisfied: scikit-image in /usr/local/lib/python3.6/dist-packages (from efficientnet==1.0.0->segmentation-models==1.0.1) (0.16.2)\n",
            "Requirement already satisfied: six in /usr/local/lib/python3.6/dist-packages (from h5py->keras_applications<=1.0.8,>=1.0.7->segmentation-models==1.0.1) (1.15.0)\n",
            "Requirement already satisfied: PyWavelets>=0.4.0 in /usr/local/lib/python3.6/dist-packages (from scikit-image->efficientnet==1.0.0->segmentation-models==1.0.1) (1.1.1)\n",
            "Requirement already satisfied: scipy>=0.19.0 in /usr/local/lib/python3.6/dist-packages (from scikit-image->efficientnet==1.0.0->segmentation-models==1.0.1) (1.4.1)\n",
            "Requirement already satisfied: pillow>=4.3.0 in /usr/local/lib/python3.6/dist-packages (from scikit-image->efficientnet==1.0.0->segmentation-models==1.0.1) (7.0.0)\n",
            "Requirement already satisfied: imageio>=2.3.0 in /usr/local/lib/python3.6/dist-packages (from scikit-image->efficientnet==1.0.0->segmentation-models==1.0.1) (2.4.1)\n",
            "Requirement already satisfied: matplotlib!=3.0.0,>=2.0.0 in /usr/local/lib/python3.6/dist-packages (from scikit-image->efficientnet==1.0.0->segmentation-models==1.0.1) (3.2.2)\n",
            "Requirement already satisfied: networkx>=2.0 in /usr/local/lib/python3.6/dist-packages (from scikit-image->efficientnet==1.0.0->segmentation-models==1.0.1) (2.5)\n",
            "Requirement already satisfied: cycler>=0.10 in /usr/local/lib/python3.6/dist-packages (from matplotlib!=3.0.0,>=2.0.0->scikit-image->efficientnet==1.0.0->segmentation-models==1.0.1) (0.10.0)\n",
            "Requirement already satisfied: pyparsing!=2.0.4,!=2.1.2,!=2.1.6,>=2.0.1 in /usr/local/lib/python3.6/dist-packages (from matplotlib!=3.0.0,>=2.0.0->scikit-image->efficientnet==1.0.0->segmentation-models==1.0.1) (2.4.7)\n",
            "Requirement already satisfied: python-dateutil>=2.1 in /usr/local/lib/python3.6/dist-packages (from matplotlib!=3.0.0,>=2.0.0->scikit-image->efficientnet==1.0.0->segmentation-models==1.0.1) (2.8.1)\n",
            "Requirement already satisfied: kiwisolver>=1.0.1 in /usr/local/lib/python3.6/dist-packages (from matplotlib!=3.0.0,>=2.0.0->scikit-image->efficientnet==1.0.0->segmentation-models==1.0.1) (1.3.1)\n",
            "Requirement already satisfied: decorator>=4.3.0 in /usr/local/lib/python3.6/dist-packages (from networkx>=2.0->scikit-image->efficientnet==1.0.0->segmentation-models==1.0.1) (4.4.2)\n",
            "Building wheels for collected packages: segmentation-models\n",
            "  Building wheel for segmentation-models (setup.py) ... \u001b[?25l\u001b[?25hdone\n",
            "  Created wheel for segmentation-models: filename=segmentation_models-1.0.1-cp36-none-any.whl size=33792 sha256=287d0fe4d715d56b7c8d33c132e4d37b7426fde536c08425583948929e498ab2\n",
            "  Stored in directory: /tmp/pip-ephem-wheel-cache-i4rjyf7m/wheels/49/cf/46/cbb4bb64518c402aea99df9d466f1081450597e653256bbcf4\n",
            "Successfully built segmentation-models\n",
            "Installing collected packages: keras-applications, image-classifiers, efficientnet, segmentation-models\n",
            "Successfully installed efficientnet-1.0.0 image-classifiers-1.0.0 keras-applications-1.0.8 segmentation-models-1.0.1\n"
          ],
          "name": "stdout"
        }
      ]
    },
    {
      "cell_type": "code",
      "metadata": {
        "colab": {
          "base_uri": "https://localhost:8080/"
        },
        "id": "UGc_SadVZBdG",
        "outputId": "7f0c9a8d-a6ad-4d0c-be80-d84e61ecbb85"
      },
      "source": [
        "import segmentation_models as sm\r\n"
      ],
      "execution_count": 1,
      "outputs": [
        {
          "output_type": "stream",
          "text": [
            "Segmentation Models: using `keras` framework.\n"
          ],
          "name": "stdout"
        }
      ]
    },
    {
      "cell_type": "code",
      "metadata": {
        "id": "tOBDSA9BnFIx"
      },
      "source": [
        "import os\n",
        "\n",
        "# os.environ[\"CUDA_VISIBLE_DEVICES\"]=\"-1\" \n",
        "import tensorflow as tf\n",
        "import numpy as np\n",
        "\n",
        "# Set the seed for random operations. \n",
        "# This let our experiments to be reproducible. \n",
        "SEED = 1234\n",
        "np.random.seed(SEED)\n",
        "tf.random.set_seed(SEED)  "
      ],
      "execution_count": 2,
      "outputs": []
    },
    {
      "cell_type": "code",
      "metadata": {
        "id": "bns18Nm7oORk"
      },
      "source": [
        "from os import listdir, makedirs\r\n",
        "from os.path import isfile, join, basename, splitext\r\n",
        "from random import seed, shuffle\r\n",
        "sm.set_framework('tf.keras')\r\n",
        "cwd = os.getcwd()\r\n",
        "cwd\r\n",
        "img_h = 640\r\n",
        "img_w = 640"
      ],
      "execution_count": 16,
      "outputs": []
    },
    {
      "cell_type": "code",
      "metadata": {
        "id": "Z8bhsWQnnU-i",
        "colab": {
          "base_uri": "https://localhost:8080/"
        },
        "outputId": "f0a165a4-5199-4d48-9411-57868aaf65a5"
      },
      "source": [
        "from google.colab import drive\n",
        "drive.mount('/content/drive')"
      ],
      "execution_count": 4,
      "outputs": [
        {
          "output_type": "stream",
          "text": [
            "Mounted at /content/drive\n"
          ],
          "name": "stdout"
        }
      ]
    },
    {
      "cell_type": "code",
      "metadata": {
        "id": "Uw-loJ73n0eS"
      },
      "source": [
        "%%capture\r\n",
        "!unzip /content/drive/My\\ Drive/Dataset.zip\r\n"
      ],
      "execution_count": 5,
      "outputs": []
    },
    {
      "cell_type": "code",
      "metadata": {
        "id": "K8MeyJUzH4Zq",
        "colab": {
          "base_uri": "https://localhost:8080/"
        },
        "outputId": "3b8ba9ca-4609-4ae2-d73b-042c975e83a9"
      },
      "source": [
        "\r\n",
        "!unzip /content/drive/My\\ Drive/file.zip"
      ],
      "execution_count": 35,
      "outputs": [
        {
          "output_type": "stream",
          "text": [
            "Archive:  /content/drive/My Drive/file.zip\n",
            "  inflating: split_dataset_segmentation.py  \n",
            "  inflating: decode_rle_example.py   \n",
            "  inflating: model.py                \n",
            "  inflating: prepare_submission.py   \n",
            "  inflating: read_mask_example.py    \n"
          ],
          "name": "stdout"
        }
      ]
    },
    {
      "cell_type": "code",
      "metadata": {
        "id": "4N88wG50nFI3"
      },
      "source": [
        "from tensorflow.keras.preprocessing.image import ImageDataGenerator\n",
        "\n",
        "apply_data_augmentation = True\n",
        "\n",
        "# in case add rescale factor rescale= 1./255,\n",
        "\"\"\" \n",
        "    rotation_range=0.2,\n",
        "    width_shift_range=0.05,\n",
        "    height_shift_range=0.05,\n",
        "    shear_range=0.05,\n",
        "    zoom_range=0.05,\n",
        "    horizontal_flip=True,\n",
        "    fill_mode='nearest'\n",
        "\"\"\"\n",
        "if apply_data_augmentation:\n",
        "    img_data_gen = ImageDataGenerator(rotation_range=0.2,\n",
        "                                      width_shift_range=0.05,\n",
        "                                      height_shift_range=0.05,\n",
        "                                      shear_range=0.05,\n",
        "                                      zoom_range=0.05,\n",
        "                                      horizontal_flip=True,\n",
        "                                      vertical_flip=True,\n",
        "                                      fill_mode='reflect')\n",
        "    mask_data_gen = ImageDataGenerator(rotation_range=0.2,\n",
        "                                      width_shift_range=0.05,\n",
        "                                      height_shift_range=0.05,\n",
        "                                      shear_range=0.05,\n",
        "                                      zoom_range=0.05,\n",
        "                                       horizontal_flip=True,\n",
        "                                       vertical_flip=True,\n",
        "                                       fill_mode='reflect')\n",
        "else:\n",
        "    img_data_gen = ImageDataGenerator()\n",
        "    mask_data_gen = ImageDataGenerator()"
      ],
      "execution_count": 17,
      "outputs": []
    },
    {
      "cell_type": "code",
      "metadata": {
        "id": "5qqb_kOlgFal"
      },
      "source": [
        "def read_rgb_mask(img_path):\r\n",
        "    '''\r\n",
        "    img_path: path to the mask file\r\n",
        "    Returns the numpy array containing target values\r\n",
        "    '''\r\n",
        "\r\n",
        "    mask_img = Image.open(img_path)\r\n",
        "    mask_arr = np.array(mask_img)\r\n",
        "\r\n",
        "    new_mask_arr = np.zeros(mask_arr.shape[:2], dtype=mask_arr.dtype)\r\n",
        "\r\n",
        "    # Use RGB dictionary in 'RGBtoTarget.txt' to convert RGB to target\r\n",
        "    new_mask_arr[np.where(np.all(mask_arr == [216, 124, 18], axis=-1))] = 0\r\n",
        "    new_mask_arr[np.where(np.all(mask_arr == [255, 255, 255], axis=-1))] = 1\r\n",
        "    new_mask_arr[np.where(np.all(mask_arr == [216, 67, 82], axis=-1))] = 2\r\n",
        "\r\n",
        "    return new_mask_arr"
      ],
      "execution_count": 18,
      "outputs": []
    },
    {
      "cell_type": "code",
      "metadata": {
        "id": "NT8VpduSJhME"
      },
      "source": [
        "from os import listdir, makedirs\r\n",
        "from os.path import isfile, join, basename, splitext\r\n",
        "from random import seed, shuffle\r\n",
        "\r\n",
        "\r\n",
        "def split_dataset(training_dir, split_dir, training_percentage=0.90):\r\n",
        "    \"\"\"\r\n",
        "    Starting from a training directory, creates a split directory\r\n",
        "    with two text files, enumerating the images present in the \r\n",
        "    training and the validation set. \r\n",
        "    \"\"\"\r\n",
        "\r\n",
        "    seed(1234)\r\n",
        "\r\n",
        "    file_names = [f for f in listdir(training_dir) if isfile(join(training_dir, f))]\r\n",
        "    shuffle(file_names)\r\n",
        "\r\n",
        "    split = int(len(file_names)*training_percentage)\r\n",
        "    train_file_names = \" \\n\".join([basename(f) for f in file_names[:split]])\r\n",
        "    valid_file_names = \" \\n\".join([basename(f) for f in file_names[split:]])\r\n",
        "\r\n",
        "    makedirs(split_dir)\r\n",
        "    with open(join(split_dir, './train.txt'), 'w') as train:\r\n",
        "        train.write(train_file_names)\r\n",
        "    with open(join(split_dir, './valid.txt'), 'w') as valid:\r\n",
        "        valid.write(valid_file_names)\r\n",
        "\r\n",
        "\r\n",
        "dataset_dir = os.path.join(\"/content/Development_Dataset/Training/Roseau/Mais/\")\r\n",
        "split_dataset(join(dataset_dir, 'Images'), join(dataset_dir, 'Splits'))"
      ],
      "execution_count": 9,
      "outputs": []
    },
    {
      "cell_type": "code",
      "metadata": {
        "id": "hsieZk4aKhm6"
      },
      "source": [
        "from PIL import Image, ImageEnhance, ImageFilter\n",
        "\n",
        "\n",
        "\n",
        "class CustomDataset(tf.keras.utils.Sequence):\n",
        "\n",
        " \n",
        "\n",
        "  def __init__(self, dataset_dir, which_subset, img_generator=None, mask_generator=None, \n",
        "               preprocessing_function=None, out_shape=[img_h, img_w]):\n",
        "    if which_subset == 'training':\n",
        "      subset_file = os.path.join(dataset_dir, 'Splits', 'train.txt')\n",
        "    elif which_subset == 'validation':\n",
        "      subset_file = os.path.join(dataset_dir, 'Splits', 'valid.txt')\n",
        "    \n",
        "    with open(subset_file, 'r') as f:\n",
        "      lines = f.readlines()\n",
        "    \n",
        "    subset_filenames = []\n",
        "    for line in lines:\n",
        "      subset_filenames.append(line.strip()) \n",
        "\n",
        "    self.which_subset = which_subset\n",
        "    self.dataset_dir = dataset_dir\n",
        "    self.subset_filenames = subset_filenames\n",
        "    self.img_generator = img_generator\n",
        "    self.mask_generator = mask_generator\n",
        "    self.preprocessing_function = preprocessing_function\n",
        "    self.out_shape = out_shape\n",
        "\n",
        "  def __len__(self):\n",
        "    return len(self.subset_filenames)\n",
        "\n",
        "  def __getitem__(self, index):\n",
        "    # Read Image\n",
        "    curr_filename = self.subset_filenames[index]\n",
        "    img = Image.open(os.path.join(self.dataset_dir, 'Images/', curr_filename ))\n",
        "    matrix = ( 1, 0, 0, 0, \n",
        "              0, 1, 0, 0, \n",
        "              0, 0, 2.25, 0) \n",
        "    img = img.convert(\"RGB\", matrix)\n",
        "    img = ImageEnhance.Contrast(img)\n",
        "    img = img.enhance(2.5)\n",
        "    img = ImageEnhance.Color(img)\n",
        "    img = img.enhance(1.0)\n",
        "    img = ImageEnhance.Brightness(img)\n",
        "    img = img.enhance(1.0)\n",
        "    img = img.filter(ImageFilter.GaussianBlur(5))\n",
        "    if(os.path.isfile(os.path.join(self.dataset_dir, 'Masks/', curr_filename ))):\n",
        "      mask = Image.fromarray(read_rgb_mask(os.path.join(self.dataset_dir, 'Masks/', curr_filename )))\n",
        "    else:\n",
        "      mask = Image.fromarray(read_rgb_mask(os.path.join(self.dataset_dir, 'Masks/', curr_filename.replace(\".jpg\",\"\")+\".png\" )))\n",
        "    # Resize image and mask\n",
        "    img = img.resize(self.out_shape)\n",
        "    mask = mask.resize(self.out_shape, resample=Image.NEAREST)\n",
        "    \n",
        "    img_arr = np.array(img)\n",
        "    mask_arr = np.array(mask)\n",
        "\n",
        "\n",
        "\n",
        "    mask_arr = np.expand_dims(mask_arr, -1)\n",
        "\n",
        "    if self.which_subset == 'training':\n",
        "      if self.img_generator is not None and self.mask_generator is not None:\n",
        "        img_t = self.img_generator.get_random_transform(img_arr.shape, seed=SEED)\n",
        "        mask_t = self.mask_generator.get_random_transform(mask_arr.shape, seed=SEED)\n",
        "        img_arr = self.img_generator.apply_transform(img_arr, img_t)\n",
        "        out_mask = np.zeros_like(mask_arr)\n",
        "        for c in np.unique(mask_arr):\n",
        "          if c > 0:\n",
        "            curr_class_arr = np.float32(mask_arr == c)\n",
        "            curr_class_arr = self.mask_generator.apply_transform(curr_class_arr, mask_t)\n",
        "            # from [0, 1] to {0, 1}\n",
        "            curr_class_arr = np.uint8(curr_class_arr)\n",
        "            # recover original class\n",
        "            curr_class_arr = curr_class_arr * c \n",
        "            out_mask += curr_class_arr\n",
        "    else:\n",
        "      out_mask = mask_arr\n",
        "    \n",
        "    if self.preprocessing_function is not None:\n",
        "        img_arr = self.preprocessing_function(img_arr)\n",
        "\n",
        "    return img_arr, np.float32(out_mask)"
      ],
      "execution_count": 19,
      "outputs": []
    },
    {
      "cell_type": "code",
      "metadata": {
        "id": "TyrdiIh_PWjB"
      },
      "source": [
        "from tensorflow.keras.applications.efficientnet import preprocess_input \n",
        "import os\n",
        "\n",
        "\n",
        "num_classes = 3\n",
        "\n",
        "\n",
        "\n",
        "# Set preprocess_input = None to display original image\n",
        "dataset = CustomDataset(dataset_dir, 'training', \n",
        "                        img_generator=img_data_gen, mask_generator=mask_data_gen,\n",
        "                        preprocessing_function=preprocess_input)\n",
        "dataset_valid = CustomDataset(dataset_dir, 'validation', \n",
        "                              preprocessing_function=preprocess_input)\n"
      ],
      "execution_count": 20,
      "outputs": []
    },
    {
      "cell_type": "code",
      "metadata": {
        "id": "usz5SKPeQrOE"
      },
      "source": [
        "bs = 2 # batch size try 3\n",
        "\n",
        "train_dataset = tf.data.Dataset.from_generator(lambda: dataset,\n",
        "                                               output_types=(tf.float32, tf.float32),\n",
        "                                               output_shapes=([img_h, img_w, 3], [img_h, img_w, 1]))\n",
        "\n",
        "train_dataset = train_dataset.batch(bs)\n",
        "\n",
        "train_dataset = train_dataset.repeat()\n",
        "\n",
        "valid_dataset = tf.data.Dataset.from_generator(lambda: dataset_valid,\n",
        "                                               output_types=(tf.float32, tf.float32),\n",
        "                                               output_shapes=([img_h, img_w, 3], [img_h, img_w, 1]))\n",
        "valid_dataset = valid_dataset.batch(bs)\n",
        "\n",
        "valid_dataset = valid_dataset.repeat()"
      ],
      "execution_count": 21,
      "outputs": []
    },
    {
      "cell_type": "code",
      "metadata": {
        "id": "HOBabUbmnFJE"
      },
      "source": [
        "# Let's test data generator\n",
        "# -------------------------\n",
        "import time\n",
        "from matplotlib import cm\n",
        "import matplotlib.pyplot as plt\n",
        "\n",
        "%matplotlib inline\n",
        "\n",
        "# Assign a color to each class\n",
        "evenly_spaced_interval = np.linspace(0, 1, num_classes)\n",
        "colors = [cm.rainbow(x) for x in evenly_spaced_interval]\n",
        "\n",
        "iterator = iter(valid_dataset)"
      ],
      "execution_count": 22,
      "outputs": []
    },
    {
      "cell_type": "code",
      "metadata": {
        "id": "9eunbPwWqPnB",
        "colab": {
          "base_uri": "https://localhost:8080/",
          "height": 221
        },
        "outputId": "9fc3a830-95e0-4b46-f2b7-42524457effe"
      },
      "source": [
        "fig, ax = plt.subplots(1, 2)\n",
        "\n",
        "augmented_img, target = next(iterator)\n",
        "augmented_img = augmented_img[0]   # First element\n",
        "augmented_img = augmented_img  # denormalize\n",
        "\n",
        "target = np.array(target[0, ..., 0])   # First element (squeezing channel dimension)\n",
        "\n",
        "print(np.unique(target))\n",
        "\n",
        "target_img = np.zeros([target.shape[0], target.shape[1], 3])\n",
        "\n",
        "target_img[np.where(target == 0)] = [0, 0, 0]\n",
        "for i in range(1, num_classes + 1):\n",
        "  target_img[np.where(target == i)] = np.array(colors[i-1])[:3] * 255\n",
        "\n",
        "ax[0].imshow(np.uint8(augmented_img))\n",
        "ax[1].imshow(np.uint8(target_img))\n",
        "\n",
        "plt.show()"
      ],
      "execution_count": 23,
      "outputs": [
        {
          "output_type": "stream",
          "text": [
            "[0. 1. 2.]\n"
          ],
          "name": "stdout"
        },
        {
          "output_type": "display_data",
          "data": {
            "image/png": "[encoded data removed]",
            "text/plain": [
              "<Figure size 432x288 with 2 Axes>"
            ]
          },
          "metadata": {
            "tags": [],
            "needs_background": "light"
          }
        }
      ]
    },
    {
      "cell_type": "code",
      "metadata": {
        "scrolled": true,
        "id": "k97OK6CRnFJS",
        "colab": {
          "base_uri": "https://localhost:8080/"
        },
        "outputId": "c4649fc7-e0c2-4d51-8287-70dc9d529063"
      },
      "source": [
        "model = sm.Unet(\"senet154\", classes=3, activation='softmax')\n",
        "\n",
        "# Visualize created model as a table\n",
        "#model.summary()"
      ],
      "execution_count": 15,
      "outputs": [
        {
          "output_type": "stream",
          "text": [
            "Downloading data from https://github.com/qubvel/classification_models/releases/download/0.0.1/senet154_imagenet_1000_no_top.h5\n",
            "466640896/466635528 [==============================] - 8s 0us/step\n"
          ],
          "name": "stdout"
        }
      ]
    },
    {
      "cell_type": "code",
      "metadata": {
        "scrolled": true,
        "id": "3XiwaKZhnFJa"
      },
      "source": [
        "import os\n",
        "from datetime import datetime\n",
        "\n",
        "\"\"\"\n",
        "cwd = os.getcwd()\n",
        "\n",
        "exps_dir = os.path.join(cwd, 'drive/My Drive/Keras4/', 'b5_unet')\n",
        "if not os.path.exists(exps_dir):\n",
        "    os.makedirs(exps_dir)\n",
        "\n",
        "now = datetime.now().strftime('%b%d_%H-%M-%S')\n",
        "\n",
        "model_name = 'b5_unet'\n",
        "\n",
        "exp_dir = os.path.join(exps_dir, model_name + '_' + str(now))\n",
        "if not os.path.exists(exp_dir):\n",
        "    os.makedirs(exp_dir)\n",
        "    \n",
        "\n",
        "\n",
        "# Model checkpoint\n",
        "# ----------------\n",
        "ckpt_dir = os.path.join(exp_dir, 'ckpts')\n",
        "if not os.path.exists(ckpt_dir):\n",
        "    os.makedirs(ckpt_dir)\n",
        "\n",
        "ckpt_callback = tf.keras.callbacks.ModelCheckpoint(filepath=os.path.join(ckpt_dir, 'cp_{epoch:02d}.ckpt'), \n",
        "                                                   save_weights_only=True)  # False to save the model directly\n",
        "callbacks.append(ckpt_callback)\n",
        "\n",
        "# Visualize Learning on Tensorboard\n",
        "# ---------------------------------\n",
        "tb_dir = os.path.join(exp_dir, 'tb_logs')\n",
        "if not os.path.exists(tb_dir):\n",
        "    os.makedirs(tb_dir)\n",
        "    \n",
        "# By default shows losses and metrics for both training and validation\n",
        "tb_callback = tf.keras.callbacks.TensorBoard(log_dir=tb_dir,\n",
        "                                             profile_batch=0,\n",
        "                                             histogram_freq=0)  # if 1 shows weights histograms\n",
        "callbacks.append(tb_callback)\n",
        "\"\"\"\n",
        "callbacks = []\n",
        "\n",
        "# Early Stopping\n",
        "# --------------\n",
        "early_stop = True\n",
        "if early_stop:\n",
        "    es_callback = tf.keras.callbacks.EarlyStopping(monitor='val_loss', patience=6)\n",
        "    callbacks.append(es_callback)\n",
        "\n",
        "reduce_lr = True\n",
        "if reduce_lr:\n",
        "    reduce_lr_callback = tf.keras.callbacks.ReduceLROnPlateau(monitor='val_loss', patience=2)\n",
        "    callbacks.append(reduce_lr_callback)\n",
        "\n",
        "\n",
        "# How to visualize Tensorboard\n",
        "\n",
        "# 1. tensorboard --logdir EXPERIMENTS_DIR --port PORT     <- from terminal\n",
        "# 2. localhost:PORT   <- in your browser"
      ],
      "execution_count": 28,
      "outputs": []
    },
    {
      "cell_type": "code",
      "metadata": {
        "id": "9MlmYGVMnFJW"
      },
      "source": [
        "# Optimization params\n",
        "\n",
        "# Loss\n",
        "# Sparse Categorical Crossentropy to use integers (mask) instead of one-hot encoded labels\n",
        "loss = tf.keras.losses.SparseCategoricalCrossentropy() \n",
        "# learning rate\n",
        "lr = 1e-4\n",
        "optimizer = tf.keras.optimizers.Adam(learning_rate=lr)\n",
        "\n",
        "# Here we define the intersection over union for each class in the batch.\n",
        "# Then we compute the final iou as the mean over classes\n",
        "def meanIoU(y_true, y_pred):\n",
        "    # get predicted class from softmax\n",
        "    y_pred = tf.expand_dims(tf.argmax(y_pred, -1), -1)\n",
        "\n",
        "    per_class_iou = []\n",
        "\n",
        "    for i in range(1, num_classes): # exclude the background class 0\n",
        "      # Get prediction and target related to only a single class (i)\n",
        "      class_pred = tf.cast(tf.where(y_pred == i, 1, 0), tf.float32)\n",
        "      class_true = tf.cast(tf.where(y_true == i, 1, 0), tf.float32)\n",
        "      intersection = tf.reduce_sum(class_true * class_pred)\n",
        "      union = tf.reduce_sum(class_true) + tf.reduce_sum(class_pred) - intersection\n",
        "    \n",
        "      iou = (intersection + 1e-7) / (union + 1e-7)\n",
        "      per_class_iou.append(iou)\n",
        "\n",
        "    return tf.reduce_mean(per_class_iou)\n",
        "\n",
        "# Validation metrics\n",
        "metrics = ['accuracy', meanIoU]\n",
        "# Compile Model\n",
        "model.compile(optimizer=optimizer, loss=loss, metrics=metrics)"
      ],
      "execution_count": 29,
      "outputs": []
    },
    {
      "cell_type": "code",
      "metadata": {
        "colab": {
          "base_uri": "https://localhost:8080/"
        },
        "id": "KmUw9Hf6MQpP",
        "outputId": "4e2a6fea-8bd6-415f-ad13-f8922971dce0"
      },
      "source": [
        "model.fit(x=train_dataset,\r\n",
        "          epochs=100,  #### set repeat in training dataset\r\n",
        "          steps_per_epoch=len(dataset),\r\n",
        "          validation_data=valid_dataset,\r\n",
        "          validation_steps=len(dataset_valid), \r\n",
        "          callbacks=callbacks)"
      ],
      "execution_count": 30,
      "outputs": [
        {
          "output_type": "stream",
          "text": [
            "Epoch 1/100\n",
            "81/81 [==============================] - 179s 2s/step - loss: 0.4026 - accuracy: 0.9676 - meanIoU: 0.4792 - val_loss: 0.3806 - val_accuracy: 0.9588 - val_meanIoU: 0.4317\n",
            "Epoch 2/100\n",
            "81/81 [==============================] - 152s 2s/step - loss: 0.2045 - accuracy: 0.9829 - meanIoU: 0.6499 - val_loss: 0.2440 - val_accuracy: 0.9675 - val_meanIoU: 0.4832\n",
            "Epoch 3/100\n",
            "81/81 [==============================] - 151s 2s/step - loss: 0.1255 - accuracy: 0.9863 - meanIoU: 0.7169 - val_loss: 0.1543 - val_accuracy: 0.9711 - val_meanIoU: 0.5442\n",
            "Epoch 4/100\n",
            "81/81 [==============================] - 153s 2s/step - loss: 0.0842 - accuracy: 0.9885 - meanIoU: 0.7640 - val_loss: 0.1226 - val_accuracy: 0.9698 - val_meanIoU: 0.5272\n",
            "Epoch 5/100\n",
            "81/81 [==============================] - 152s 2s/step - loss: 0.0625 - accuracy: 0.9895 - meanIoU: 0.7790 - val_loss: 0.1063 - val_accuracy: 0.9716 - val_meanIoU: 0.5468\n",
            "Epoch 6/100\n",
            "81/81 [==============================] - 151s 2s/step - loss: 0.0502 - accuracy: 0.9903 - meanIoU: 0.7943 - val_loss: 0.1134 - val_accuracy: 0.9670 - val_meanIoU: 0.4534\n",
            "Epoch 7/100\n",
            "81/81 [==============================] - 151s 2s/step - loss: 0.0424 - accuracy: 0.9908 - meanIoU: 0.8039 - val_loss: 0.1077 - val_accuracy: 0.9686 - val_meanIoU: 0.4844\n",
            "Epoch 8/100\n",
            "81/81 [==============================] - 152s 2s/step - loss: 0.0366 - accuracy: 0.9923 - meanIoU: 0.8351 - val_loss: 0.0979 - val_accuracy: 0.9719 - val_meanIoU: 0.5512\n",
            "Epoch 9/100\n",
            "81/81 [==============================] - 151s 2s/step - loss: 0.0342 - accuracy: 0.9933 - meanIoU: 0.8536 - val_loss: 0.0987 - val_accuracy: 0.9718 - val_meanIoU: 0.5494\n",
            "Epoch 10/100\n",
            "81/81 [==============================] - 151s 2s/step - loss: 0.0331 - accuracy: 0.9936 - meanIoU: 0.8620 - val_loss: 0.1001 - val_accuracy: 0.9715 - val_meanIoU: 0.5441\n",
            "Epoch 11/100\n",
            "81/81 [==============================] - 151s 2s/step - loss: 0.0323 - accuracy: 0.9938 - meanIoU: 0.8657 - val_loss: 0.0992 - val_accuracy: 0.9719 - val_meanIoU: 0.5504\n",
            "Epoch 12/100\n",
            "81/81 [==============================] - 151s 2s/step - loss: 0.0323 - accuracy: 0.9938 - meanIoU: 0.8669 - val_loss: 0.0991 - val_accuracy: 0.9720 - val_meanIoU: 0.5520\n",
            "Epoch 13/100\n",
            "81/81 [==============================] - 151s 2s/step - loss: 0.0321 - accuracy: 0.9939 - meanIoU: 0.8674 - val_loss: 0.0988 - val_accuracy: 0.9722 - val_meanIoU: 0.5539\n",
            "Epoch 14/100\n",
            "81/81 [==============================] - 151s 2s/step - loss: 0.0322 - accuracy: 0.9939 - meanIoU: 0.8667 - val_loss: 0.0987 - val_accuracy: 0.9722 - val_meanIoU: 0.5548\n"
          ],
          "name": "stdout"
        },
        {
          "output_type": "execute_result",
          "data": {
            "text/plain": [
              "<tensorflow.python.keras.callbacks.History at 0x7f575ff78240>"
            ]
          },
          "metadata": {
            "tags": []
          },
          "execution_count": 30
        }
      ]
    },
    {
      "cell_type": "code",
      "metadata": {
        "id": "Lv2Tg9EQha1g"
      },
      "source": [
        "model.save('/content/drive/MyDrive/Roseau_Mais_image_pre.h5')"
      ],
      "execution_count": 37,
      "outputs": []
    },
    {
      "cell_type": "code",
      "metadata": {
        "id": "CFnsmo7ShoPx"
      },
      "source": [
        "iterator = iter(valid_dataset)"
      ],
      "execution_count": 31,
      "outputs": []
    },
    {
      "cell_type": "code",
      "metadata": {
        "scrolled": false,
        "id": "zo1JbCO5nFJh",
        "colab": {
          "base_uri": "https://localhost:8080/",
          "height": 200
        },
        "outputId": "abb8e7f8-70c6-4960-9af8-e93610d7740a"
      },
      "source": [
        "# Show original, correct, predicted (validation)\n",
        "\n",
        "fig, ax = plt.subplots(1, 3, figsize=(8, 8))\n",
        "fig.show()\n",
        "image, target = next(iterator)\n",
        "print(type(image))\n",
        "image = image[0]\n",
        "target = target[0, ..., 0]\n",
        "\n",
        "out_sigmoid = model.predict(x=tf.expand_dims(image, 0))\n",
        "\n",
        "predicted_class = tf.argmax(out_sigmoid, -1)\n",
        "\n",
        "out_sigmoid.shape\n",
        "\n",
        "predicted_class = predicted_class[0, ...] #256*256\n",
        "predicted_class.shape\n",
        "\n",
        "# Assign colors (just for visualization)\n",
        "target_img = np.zeros([target.shape[0], target.shape[1], 3])\n",
        "prediction_img = np.zeros([target.shape[0], target.shape[1], 3])\n",
        "\n",
        "target_img[np.where(target == 0)] = [0, 0, 0]\n",
        "for i in range(1, num_classes):\n",
        "  target_img[np.where(target == i)] = np.array(colors[i-1])[:3] * 255\n",
        "\n",
        "prediction_img[np.where(predicted_class == 0)] = [0, 0, 0]\n",
        "for i in range(1, num_classes):\n",
        "  prediction_img[np.where(predicted_class == i)] = np.array(colors[i-1])[:3] * 255\n",
        "\n",
        "ax[0].imshow(np.uint8(image))\n",
        "ax[1].imshow(np.uint8(target_img))\n",
        "ax[2].imshow(np.uint8(prediction_img))\n",
        "\n",
        "fig.canvas.draw()"
      ],
      "execution_count": 32,
      "outputs": [
        {
          "output_type": "stream",
          "text": [
            "<class 'tensorflow.python.framework.ops.EagerTensor'>\n"
          ],
          "name": "stdout"
        },
        {
          "output_type": "display_data",
          "data": {
            "image/png": "[encoded data removed]",
            "text/plain": [
              "<Figure size 576x576 with 3 Axes>"
            ]
          },
          "metadata": {
            "tags": [],
            "needs_background": "light"
          }
        }
      ]
    },
    {
      "cell_type": "code",
      "metadata": {
        "id": "M75UjH7xxS7J"
      },
      "source": [
        "# Compute predictions\n",
        "\n",
        "from os import listdir\n",
        "from os.path import isfile, join, basename, splitext\n",
        "\n",
        "# CustomTestDataset to load test images\n",
        "# Specify the full path to the folder containing the images\n",
        "class CustomTestDataset(tf.keras.utils.Sequence):\n",
        "\n",
        "    def __init__(self, dataset_dir, img_generator=None, \n",
        "              preprocessing_function=None, out_shape=[img_h, img_w]):\n",
        "\n",
        "      subset_filenames = [splitext(basename(f))[0] for f in \n",
        "                                                listdir(dataset_dir) if isfile(join(dataset_dir, f))]\n",
        "\n",
        "      extension = [splitext(basename(f))[1] for f in \n",
        "                                                listdir(dataset_dir) if isfile(join(dataset_dir, f))]\n",
        "\n",
        "      self.dataset_dir = dataset_dir\n",
        "      self.subset_filenames = subset_filenames\n",
        "      self.img_generator = img_generator\n",
        "      self.extension = extension\n",
        "      self.preprocessing_function = preprocessing_function\n",
        "      self.out_shape = out_shape\n",
        "\n",
        "\n",
        "    def __len__(self):\n",
        "        return len(self.subset_filenames)\n",
        "\n",
        "\n",
        "    def get_original_size(self, index):\n",
        "        curr_filename = self.subset_filenames[index]\n",
        "        img = Image.open(os.path.join(self.dataset_dir, curr_filename + self.extension[index]))\n",
        "        width, height = img.size\n",
        "\n",
        "        return [height, width]\n",
        "\n",
        "\n",
        "    def __getitem__(self, index):\n",
        "        # Read Image\n",
        "        curr_filename = self.subset_filenames[index]\n",
        "        img = Image.open(os.path.join(self.dataset_dir, curr_filename + self.extension[index]))\n",
        "        matrix = ( 1, 0, 0, 0, \n",
        "              0, 1, 0, 0, \n",
        "              0, 0, 2.25, 0) \n",
        "        img = img.convert(\"RGB\", matrix)\n",
        "        img = ImageEnhance.Contrast(img)\n",
        "        img = img.enhance(2.5)\n",
        "        img = ImageEnhance.Color(img)\n",
        "        img = img.enhance(1.0)\n",
        "        img = ImageEnhance.Brightness(img)\n",
        "        img = img.enhance(1.0)\n",
        "        img = img.filter(ImageFilter.GaussianBlur(5))\n",
        "        # Resize image and mask\n",
        "        img = img.resize(self.out_shape)\n",
        "        img_arr = np.array(img)\n",
        "\n",
        "        if self.preprocessing_function is not None:\n",
        "            img_arr = self.preprocessing_function(img_arr)\n",
        "\n",
        "        return img_arr\n",
        "\n",
        "\n",
        "    def get_name(self, index):\n",
        "        return self.subset_filenames[index]"
      ],
      "execution_count": 38,
      "outputs": []
    },
    {
      "cell_type": "code",
      "metadata": {
        "colab": {
          "base_uri": "https://localhost:8080/"
        },
        "id": "IQjPaGguj1Q8",
        "outputId": "3e5f09f0-cbb2-4711-82da-ea77a5339fc1"
      },
      "source": [
        "import json\r\n",
        "from prepare_submission import rle_encode\r\n",
        "test_dir = '/content/Development_Dataset/Test_Dev/'\r\n",
        "submission_dict = {}\r\n",
        "for dataset in os.listdir(test_dir):\r\n",
        "  for plant in os.listdir(os.path.join(test_dir,dataset)):\r\n",
        "    directory = os.path.join(test_dir,dataset,plant,\"Images\")\r\n",
        "    test_dataset = CustomTestDataset(directory, preprocessing_function=preprocess_input)\r\n",
        "    temp = {}\r\n",
        "    for i in range(test_dataset.__len__()):\r\n",
        "        image = test_dataset.__getitem__(i)\r\n",
        "        img_name = test_dataset.get_name(i)\r\n",
        "        original_h, original_w = test_dataset.get_original_size(i)\r\n",
        "        prediction = model.predict(tf.expand_dims(image, axis=0))\r\n",
        "        mask_arr = tf.argmax(prediction, -1)[0, ...] # (256, 256)\r\n",
        "        mask_arr = tf.expand_dims(mask_arr, axis=2)\r\n",
        "        print(mask_arr.shape)\r\n",
        "        mask_arr = tf.image.resize(mask_arr, (original_h, original_w),                          \r\n",
        "                                    method=tf.image.ResizeMethod.NEAREST_NEIGHBOR)\r\n",
        "\r\n",
        "        mask_arr = np.array(mask_arr)\r\n",
        "\r\n",
        "        temp[img_name] = {}\r\n",
        "        temp[img_name]['shape'] = [original_h, original_w]\r\n",
        "        temp[img_name]['team'] = dataset\r\n",
        "        temp[img_name]['crop'] = plant\r\n",
        "        temp[img_name]['segmentation'] = {}\r\n",
        "\r\n",
        "        rle_encoded_crop = rle_encode(mask_arr == 1)\r\n",
        "        rle_encoded_weed = rle_encode(mask_arr == 2)\r\n",
        "\r\n",
        "        temp[img_name]['segmentation']['crop'] = rle_encoded_crop\r\n",
        "        temp[img_name]['segmentation']['weed'] = rle_encoded_weed\r\n",
        "      \r\n",
        "    submission_dict.update(temp)\r\n",
        "with open('./submission.json', 'w') as f:\r\n",
        "    json.dump(submission_dict, f)"
      ],
      "execution_count": 39,
      "outputs": [
        {
          "output_type": "stream",
          "text": [
            "(640, 640, 1)\n",
            "(640, 640, 1)\n",
            "(640, 640, 1)\n",
            "(640, 640, 1)\n",
            "(640, 640, 1)\n",
            "(640, 640, 1)\n",
            "(640, 640, 1)\n",
            "(640, 640, 1)\n",
            "(640, 640, 1)\n",
            "(640, 640, 1)\n",
            "(640, 640, 1)\n",
            "(640, 640, 1)\n",
            "(640, 640, 1)\n",
            "(640, 640, 1)\n",
            "(640, 640, 1)\n",
            "(640, 640, 1)\n",
            "(640, 640, 1)\n",
            "(640, 640, 1)\n",
            "(640, 640, 1)\n",
            "(640, 640, 1)\n",
            "(640, 640, 1)\n",
            "(640, 640, 1)\n",
            "(640, 640, 1)\n",
            "(640, 640, 1)\n",
            "(640, 640, 1)\n",
            "(640, 640, 1)\n",
            "(640, 640, 1)\n",
            "(640, 640, 1)\n",
            "(640, 640, 1)\n",
            "(640, 640, 1)\n",
            "(640, 640, 1)\n",
            "(640, 640, 1)\n",
            "(640, 640, 1)\n",
            "(640, 640, 1)\n",
            "(640, 640, 1)\n",
            "(640, 640, 1)\n",
            "(640, 640, 1)\n",
            "(640, 640, 1)\n",
            "(640, 640, 1)\n",
            "(640, 640, 1)\n",
            "(640, 640, 1)\n",
            "(640, 640, 1)\n",
            "(640, 640, 1)\n",
            "(640, 640, 1)\n",
            "(640, 640, 1)\n",
            "(640, 640, 1)\n",
            "(640, 640, 1)\n",
            "(640, 640, 1)\n",
            "(640, 640, 1)\n",
            "(640, 640, 1)\n",
            "(640, 640, 1)\n",
            "(640, 640, 1)\n",
            "(640, 640, 1)\n",
            "(640, 640, 1)\n",
            "(640, 640, 1)\n",
            "(640, 640, 1)\n",
            "(640, 640, 1)\n",
            "(640, 640, 1)\n",
            "(640, 640, 1)\n",
            "(640, 640, 1)\n",
            "(640, 640, 1)\n",
            "(640, 640, 1)\n",
            "(640, 640, 1)\n",
            "(640, 640, 1)\n",
            "(640, 640, 1)\n",
            "(640, 640, 1)\n",
            "(640, 640, 1)\n",
            "(640, 640, 1)\n",
            "(640, 640, 1)\n",
            "(640, 640, 1)\n",
            "(640, 640, 1)\n",
            "(640, 640, 1)\n",
            "(640, 640, 1)\n",
            "(640, 640, 1)\n",
            "(640, 640, 1)\n",
            "(640, 640, 1)\n",
            "(640, 640, 1)\n",
            "(640, 640, 1)\n",
            "(640, 640, 1)\n",
            "(640, 640, 1)\n",
            "(640, 640, 1)\n",
            "(640, 640, 1)\n",
            "(640, 640, 1)\n",
            "(640, 640, 1)\n",
            "(640, 640, 1)\n",
            "(640, 640, 1)\n",
            "(640, 640, 1)\n",
            "(640, 640, 1)\n",
            "(640, 640, 1)\n",
            "(640, 640, 1)\n",
            "(640, 640, 1)\n",
            "(640, 640, 1)\n",
            "(640, 640, 1)\n",
            "(640, 640, 1)\n",
            "(640, 640, 1)\n",
            "(640, 640, 1)\n",
            "(640, 640, 1)\n",
            "(640, 640, 1)\n",
            "(640, 640, 1)\n",
            "(640, 640, 1)\n",
            "(640, 640, 1)\n",
            "(640, 640, 1)\n",
            "(640, 640, 1)\n",
            "(640, 640, 1)\n",
            "(640, 640, 1)\n",
            "(640, 640, 1)\n",
            "(640, 640, 1)\n",
            "(640, 640, 1)\n",
            "(640, 640, 1)\n",
            "(640, 640, 1)\n",
            "(640, 640, 1)\n",
            "(640, 640, 1)\n",
            "(640, 640, 1)\n",
            "(640, 640, 1)\n",
            "(640, 640, 1)\n",
            "(640, 640, 1)\n",
            "(640, 640, 1)\n",
            "(640, 640, 1)\n",
            "(640, 640, 1)\n",
            "(640, 640, 1)\n"
          ],
          "name": "stdout"
        }
      ]
    },
    {
      "cell_type": "code",
      "metadata": {
        "id": "LBxg_CsV6tmD"
      },
      "source": [
        ""
      ],
      "execution_count": null,
      "outputs": []
    }
  ]
}