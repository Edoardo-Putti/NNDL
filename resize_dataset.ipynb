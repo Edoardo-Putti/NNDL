{
 "cells": [
  {
   "cell_type": "code",
   "execution_count": null,
   "metadata": {},
   "outputs": [],
   "source": [
    "#Code must be executed in a folder where you also have the folder containing the dataset\n",
    "\n",
    "from PIL import Image\n",
    "import os, sys\n",
    "\n",
    "def resize_dataset():\n",
    "    \n",
    "    path = os.getcwd()\n",
    "    path = os.path.join(path, 'data\\\\')\n",
    "    path_test = os.path.join(path, 'test\\\\')\n",
    "    path_training0 = os.path.join(path, 'training\\\\class_0\\\\')\n",
    "    path_training1 = os.path.join(path, 'training\\\\class_1\\\\')\n",
    "    path_training2 = os.path.join(path, 'training\\\\class_2\\\\')\n",
    "    path_validation0 = os.path.join(path, 'validation\\\\class_0\\\\')\n",
    "    path_validation1 = os.path.join(path, 'validation\\\\class_1\\\\')\n",
    "    path_validation2 = os.path.join(path, 'validation\\\\class_2\\\\')\n",
    "\n",
    "    list = [path_test, path_training0, path_training1, path_training2,\n",
    "            path_validation0, path_validation1, path_validation2]\n",
    "\n",
    "    for el in list:\n",
    "        dirs = os.listdir(el)\n",
    "        for item in dirs: #Iterates through each picture\n",
    "             if os.path.isfile(el+item): \n",
    "                 im = Image.open(el+item)\n",
    "                 f, e = os.path.splitext(el+item)\n",
    "                 imResize = im.resize((408,408), Image.ANTIALIAS)\n",
    "                 imResize.save(f + e, 'JPEG', quality=90)\n",
    "                    \n",
    "resize_dataset()    "
   ]
  }
 ],
 "metadata": {
  "kernelspec": {
   "display_name": "Python 3",
   "language": "python",
   "name": "python3"
  },
  "language_info": {
   "codemirror_mode": {
    "name": "ipython",
    "version": 3
   },
   "file_extension": ".py",
   "mimetype": "text/x-python",
   "name": "python",
   "nbconvert_exporter": "python",
   "pygments_lexer": "ipython3",
   "version": "3.7.9"
  }
 },
 "nbformat": 4,
 "nbformat_minor": 4
}
